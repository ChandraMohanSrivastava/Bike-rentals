{
 "cells": [
  {
   "cell_type": "code",
   "execution_count": 1,
   "metadata": {},
   "outputs": [
    {
     "name": "stderr",
     "output_type": "stream",
     "text": [
      "Using TensorFlow backend.\n"
     ]
    }
   ],
   "source": [
    "import pandas as pd\n",
    "import os \n",
    "import numpy as np # For dealing with numbers \n",
    "import matplotlib.pyplot as pl # For graphical visualizaion \n",
    "from ggplot import *  # For graphical visualisation-ggplot\n",
    "import seaborn as sns # For graphical visualisation - seaborn \n",
    "from fancyimpute import KNN  # For KNN \n",
    "from scipy.stats import chi2_contingency # For chi-square test\n",
    "from sklearn.model_selection import train_test_split #For test and train split\n"
   ]
  },
  {
   "cell_type": "code",
   "execution_count": 147,
   "metadata": {},
   "outputs": [],
   "source": [
    "from sklearn.tree import DecisionTreeRegressor\n",
    "from sklearn.ensemble import RandomForestRegressor\n",
    "from sklearn.linear_model import LinearRegression"
   ]
  },
  {
   "cell_type": "code",
   "execution_count": 181,
   "metadata": {},
   "outputs": [],
   "source": [
    "from sklearn import metrics"
   ]
  },
  {
   "cell_type": "code",
   "execution_count": 131,
   "metadata": {},
   "outputs": [],
   "source": [
    "from sklearn.metrics import mean_absolute_error"
   ]
  },
  {
   "cell_type": "code",
   "execution_count": 2,
   "metadata": {},
   "outputs": [],
   "source": [
    "import statsmodels.api as sm #For Linear Regression"
   ]
  },
  {
   "cell_type": "code",
   "execution_count": 3,
   "metadata": {},
   "outputs": [],
   "source": [
    "os.chdir(\"C:/Users/Mahesh/Desktop/Final Project/New folder\")\n"
   ]
  },
  {
   "cell_type": "code",
   "execution_count": 264,
   "metadata": {},
   "outputs": [],
   "source": [
    "bike1 = pd.read_csv(\"day.csv\")"
   ]
  },
  {
   "cell_type": "code",
   "execution_count": 265,
   "metadata": {},
   "outputs": [
    {
     "data": {
      "text/html": [
       "<div>\n",
       "<style scoped>\n",
       "    .dataframe tbody tr th:only-of-type {\n",
       "        vertical-align: middle;\n",
       "    }\n",
       "\n",
       "    .dataframe tbody tr th {\n",
       "        vertical-align: top;\n",
       "    }\n",
       "\n",
       "    .dataframe thead th {\n",
       "        text-align: right;\n",
       "    }\n",
       "</style>\n",
       "<table border=\"1\" class=\"dataframe\">\n",
       "  <thead>\n",
       "    <tr style=\"text-align: right;\">\n",
       "      <th></th>\n",
       "      <th>instant</th>\n",
       "      <th>dteday</th>\n",
       "      <th>season</th>\n",
       "      <th>yr</th>\n",
       "      <th>mnth</th>\n",
       "      <th>holiday</th>\n",
       "      <th>weekday</th>\n",
       "      <th>workingday</th>\n",
       "      <th>weathersit</th>\n",
       "      <th>temp</th>\n",
       "      <th>atemp</th>\n",
       "      <th>hum</th>\n",
       "      <th>windspeed</th>\n",
       "      <th>casual</th>\n",
       "      <th>registered</th>\n",
       "      <th>cnt</th>\n",
       "    </tr>\n",
       "  </thead>\n",
       "  <tbody>\n",
       "    <tr>\n",
       "      <th>0</th>\n",
       "      <td>1</td>\n",
       "      <td>2011-01-01</td>\n",
       "      <td>1</td>\n",
       "      <td>0</td>\n",
       "      <td>1</td>\n",
       "      <td>0</td>\n",
       "      <td>6</td>\n",
       "      <td>0</td>\n",
       "      <td>2</td>\n",
       "      <td>0.344167</td>\n",
       "      <td>0.363625</td>\n",
       "      <td>0.805833</td>\n",
       "      <td>0.160446</td>\n",
       "      <td>331</td>\n",
       "      <td>654</td>\n",
       "      <td>985</td>\n",
       "    </tr>\n",
       "    <tr>\n",
       "      <th>1</th>\n",
       "      <td>2</td>\n",
       "      <td>2011-01-02</td>\n",
       "      <td>1</td>\n",
       "      <td>0</td>\n",
       "      <td>1</td>\n",
       "      <td>0</td>\n",
       "      <td>0</td>\n",
       "      <td>0</td>\n",
       "      <td>2</td>\n",
       "      <td>0.363478</td>\n",
       "      <td>0.353739</td>\n",
       "      <td>0.696087</td>\n",
       "      <td>0.248539</td>\n",
       "      <td>131</td>\n",
       "      <td>670</td>\n",
       "      <td>801</td>\n",
       "    </tr>\n",
       "    <tr>\n",
       "      <th>2</th>\n",
       "      <td>3</td>\n",
       "      <td>2011-01-03</td>\n",
       "      <td>1</td>\n",
       "      <td>0</td>\n",
       "      <td>1</td>\n",
       "      <td>0</td>\n",
       "      <td>1</td>\n",
       "      <td>1</td>\n",
       "      <td>1</td>\n",
       "      <td>0.196364</td>\n",
       "      <td>0.189405</td>\n",
       "      <td>0.437273</td>\n",
       "      <td>0.248309</td>\n",
       "      <td>120</td>\n",
       "      <td>1229</td>\n",
       "      <td>1349</td>\n",
       "    </tr>\n",
       "    <tr>\n",
       "      <th>3</th>\n",
       "      <td>4</td>\n",
       "      <td>2011-01-04</td>\n",
       "      <td>1</td>\n",
       "      <td>0</td>\n",
       "      <td>1</td>\n",
       "      <td>0</td>\n",
       "      <td>2</td>\n",
       "      <td>1</td>\n",
       "      <td>1</td>\n",
       "      <td>0.200000</td>\n",
       "      <td>0.212122</td>\n",
       "      <td>0.590435</td>\n",
       "      <td>0.160296</td>\n",
       "      <td>108</td>\n",
       "      <td>1454</td>\n",
       "      <td>1562</td>\n",
       "    </tr>\n",
       "    <tr>\n",
       "      <th>4</th>\n",
       "      <td>5</td>\n",
       "      <td>2011-01-05</td>\n",
       "      <td>1</td>\n",
       "      <td>0</td>\n",
       "      <td>1</td>\n",
       "      <td>0</td>\n",
       "      <td>3</td>\n",
       "      <td>1</td>\n",
       "      <td>1</td>\n",
       "      <td>0.226957</td>\n",
       "      <td>0.229270</td>\n",
       "      <td>0.436957</td>\n",
       "      <td>0.186900</td>\n",
       "      <td>82</td>\n",
       "      <td>1518</td>\n",
       "      <td>1600</td>\n",
       "    </tr>\n",
       "  </tbody>\n",
       "</table>\n",
       "</div>"
      ],
      "text/plain": [
       "   instant      dteday  season  yr  mnth  holiday  weekday  workingday  \\\n",
       "0        1  2011-01-01       1   0     1        0        6           0   \n",
       "1        2  2011-01-02       1   0     1        0        0           0   \n",
       "2        3  2011-01-03       1   0     1        0        1           1   \n",
       "3        4  2011-01-04       1   0     1        0        2           1   \n",
       "4        5  2011-01-05       1   0     1        0        3           1   \n",
       "\n",
       "   weathersit      temp     atemp       hum  windspeed  casual  registered  \\\n",
       "0           2  0.344167  0.363625  0.805833   0.160446     331         654   \n",
       "1           2  0.363478  0.353739  0.696087   0.248539     131         670   \n",
       "2           1  0.196364  0.189405  0.437273   0.248309     120        1229   \n",
       "3           1  0.200000  0.212122  0.590435   0.160296     108        1454   \n",
       "4           1  0.226957  0.229270  0.436957   0.186900      82        1518   \n",
       "\n",
       "    cnt  \n",
       "0   985  \n",
       "1   801  \n",
       "2  1349  \n",
       "3  1562  \n",
       "4  1600  "
      ]
     },
     "execution_count": 265,
     "metadata": {},
     "output_type": "execute_result"
    }
   ],
   "source": [
    "bike1.head(5)"
   ]
  },
  {
   "cell_type": "code",
   "execution_count": 285,
   "metadata": {},
   "outputs": [
    {
     "data": {
      "text/html": [
       "<div>\n",
       "<style scoped>\n",
       "    .dataframe tbody tr th:only-of-type {\n",
       "        vertical-align: middle;\n",
       "    }\n",
       "\n",
       "    .dataframe tbody tr th {\n",
       "        vertical-align: top;\n",
       "    }\n",
       "\n",
       "    .dataframe thead th {\n",
       "        text-align: right;\n",
       "    }\n",
       "</style>\n",
       "<table border=\"1\" class=\"dataframe\">\n",
       "  <thead>\n",
       "    <tr style=\"text-align: right;\">\n",
       "      <th></th>\n",
       "      <th>season</th>\n",
       "      <th>yr</th>\n",
       "      <th>mnth</th>\n",
       "      <th>holiday</th>\n",
       "      <th>weekday</th>\n",
       "      <th>workingday</th>\n",
       "      <th>weathersit</th>\n",
       "      <th>temp</th>\n",
       "      <th>hum</th>\n",
       "      <th>windspeed</th>\n",
       "      <th>cnt</th>\n",
       "    </tr>\n",
       "  </thead>\n",
       "  <tbody>\n",
       "    <tr>\n",
       "      <th>0</th>\n",
       "      <td>1</td>\n",
       "      <td>2011</td>\n",
       "      <td>1</td>\n",
       "      <td>0</td>\n",
       "      <td>6</td>\n",
       "      <td>0</td>\n",
       "      <td>2</td>\n",
       "      <td>0.344167</td>\n",
       "      <td>0.805833</td>\n",
       "      <td>0.160446</td>\n",
       "      <td>985</td>\n",
       "    </tr>\n",
       "    <tr>\n",
       "      <th>1</th>\n",
       "      <td>1</td>\n",
       "      <td>2011</td>\n",
       "      <td>1</td>\n",
       "      <td>0</td>\n",
       "      <td>0</td>\n",
       "      <td>0</td>\n",
       "      <td>2</td>\n",
       "      <td>0.363478</td>\n",
       "      <td>0.696087</td>\n",
       "      <td>0.248539</td>\n",
       "      <td>801</td>\n",
       "    </tr>\n",
       "    <tr>\n",
       "      <th>2</th>\n",
       "      <td>1</td>\n",
       "      <td>2011</td>\n",
       "      <td>1</td>\n",
       "      <td>0</td>\n",
       "      <td>1</td>\n",
       "      <td>1</td>\n",
       "      <td>1</td>\n",
       "      <td>0.196364</td>\n",
       "      <td>0.437273</td>\n",
       "      <td>0.248309</td>\n",
       "      <td>1349</td>\n",
       "    </tr>\n",
       "    <tr>\n",
       "      <th>3</th>\n",
       "      <td>1</td>\n",
       "      <td>2011</td>\n",
       "      <td>1</td>\n",
       "      <td>0</td>\n",
       "      <td>2</td>\n",
       "      <td>1</td>\n",
       "      <td>1</td>\n",
       "      <td>0.200000</td>\n",
       "      <td>0.590435</td>\n",
       "      <td>0.160296</td>\n",
       "      <td>1562</td>\n",
       "    </tr>\n",
       "    <tr>\n",
       "      <th>4</th>\n",
       "      <td>1</td>\n",
       "      <td>2011</td>\n",
       "      <td>1</td>\n",
       "      <td>0</td>\n",
       "      <td>3</td>\n",
       "      <td>1</td>\n",
       "      <td>1</td>\n",
       "      <td>0.226957</td>\n",
       "      <td>0.436957</td>\n",
       "      <td>0.186900</td>\n",
       "      <td>1600</td>\n",
       "    </tr>\n",
       "    <tr>\n",
       "      <th>5</th>\n",
       "      <td>1</td>\n",
       "      <td>2011</td>\n",
       "      <td>1</td>\n",
       "      <td>0</td>\n",
       "      <td>4</td>\n",
       "      <td>1</td>\n",
       "      <td>1</td>\n",
       "      <td>0.204348</td>\n",
       "      <td>0.518261</td>\n",
       "      <td>0.089565</td>\n",
       "      <td>1606</td>\n",
       "    </tr>\n",
       "    <tr>\n",
       "      <th>6</th>\n",
       "      <td>1</td>\n",
       "      <td>2011</td>\n",
       "      <td>1</td>\n",
       "      <td>0</td>\n",
       "      <td>5</td>\n",
       "      <td>1</td>\n",
       "      <td>2</td>\n",
       "      <td>0.196522</td>\n",
       "      <td>0.498696</td>\n",
       "      <td>0.168726</td>\n",
       "      <td>1510</td>\n",
       "    </tr>\n",
       "    <tr>\n",
       "      <th>7</th>\n",
       "      <td>1</td>\n",
       "      <td>2011</td>\n",
       "      <td>1</td>\n",
       "      <td>0</td>\n",
       "      <td>6</td>\n",
       "      <td>0</td>\n",
       "      <td>2</td>\n",
       "      <td>0.165000</td>\n",
       "      <td>0.535833</td>\n",
       "      <td>0.266804</td>\n",
       "      <td>959</td>\n",
       "    </tr>\n",
       "    <tr>\n",
       "      <th>8</th>\n",
       "      <td>1</td>\n",
       "      <td>2011</td>\n",
       "      <td>1</td>\n",
       "      <td>0</td>\n",
       "      <td>0</td>\n",
       "      <td>0</td>\n",
       "      <td>1</td>\n",
       "      <td>0.138333</td>\n",
       "      <td>0.434167</td>\n",
       "      <td>0.361950</td>\n",
       "      <td>822</td>\n",
       "    </tr>\n",
       "    <tr>\n",
       "      <th>9</th>\n",
       "      <td>1</td>\n",
       "      <td>2011</td>\n",
       "      <td>1</td>\n",
       "      <td>0</td>\n",
       "      <td>1</td>\n",
       "      <td>1</td>\n",
       "      <td>1</td>\n",
       "      <td>0.150833</td>\n",
       "      <td>0.482917</td>\n",
       "      <td>0.223267</td>\n",
       "      <td>1321</td>\n",
       "    </tr>\n",
       "    <tr>\n",
       "      <th>10</th>\n",
       "      <td>1</td>\n",
       "      <td>2011</td>\n",
       "      <td>1</td>\n",
       "      <td>0</td>\n",
       "      <td>2</td>\n",
       "      <td>1</td>\n",
       "      <td>2</td>\n",
       "      <td>0.169091</td>\n",
       "      <td>0.686364</td>\n",
       "      <td>0.122132</td>\n",
       "      <td>1263</td>\n",
       "    </tr>\n",
       "    <tr>\n",
       "      <th>11</th>\n",
       "      <td>1</td>\n",
       "      <td>2011</td>\n",
       "      <td>1</td>\n",
       "      <td>0</td>\n",
       "      <td>3</td>\n",
       "      <td>1</td>\n",
       "      <td>1</td>\n",
       "      <td>0.172727</td>\n",
       "      <td>0.599545</td>\n",
       "      <td>0.304627</td>\n",
       "      <td>1162</td>\n",
       "    </tr>\n",
       "    <tr>\n",
       "      <th>12</th>\n",
       "      <td>1</td>\n",
       "      <td>2011</td>\n",
       "      <td>1</td>\n",
       "      <td>0</td>\n",
       "      <td>4</td>\n",
       "      <td>1</td>\n",
       "      <td>1</td>\n",
       "      <td>0.165000</td>\n",
       "      <td>0.470417</td>\n",
       "      <td>0.301000</td>\n",
       "      <td>1406</td>\n",
       "    </tr>\n",
       "    <tr>\n",
       "      <th>13</th>\n",
       "      <td>1</td>\n",
       "      <td>2011</td>\n",
       "      <td>1</td>\n",
       "      <td>0</td>\n",
       "      <td>5</td>\n",
       "      <td>1</td>\n",
       "      <td>1</td>\n",
       "      <td>0.160870</td>\n",
       "      <td>0.537826</td>\n",
       "      <td>0.126548</td>\n",
       "      <td>1421</td>\n",
       "    </tr>\n",
       "    <tr>\n",
       "      <th>14</th>\n",
       "      <td>1</td>\n",
       "      <td>2011</td>\n",
       "      <td>1</td>\n",
       "      <td>0</td>\n",
       "      <td>6</td>\n",
       "      <td>0</td>\n",
       "      <td>2</td>\n",
       "      <td>0.233333</td>\n",
       "      <td>0.498750</td>\n",
       "      <td>0.157963</td>\n",
       "      <td>1248</td>\n",
       "    </tr>\n",
       "    <tr>\n",
       "      <th>15</th>\n",
       "      <td>1</td>\n",
       "      <td>2011</td>\n",
       "      <td>1</td>\n",
       "      <td>0</td>\n",
       "      <td>0</td>\n",
       "      <td>0</td>\n",
       "      <td>1</td>\n",
       "      <td>0.231667</td>\n",
       "      <td>0.483750</td>\n",
       "      <td>0.188433</td>\n",
       "      <td>1204</td>\n",
       "    </tr>\n",
       "    <tr>\n",
       "      <th>16</th>\n",
       "      <td>1</td>\n",
       "      <td>2011</td>\n",
       "      <td>1</td>\n",
       "      <td>1</td>\n",
       "      <td>1</td>\n",
       "      <td>0</td>\n",
       "      <td>2</td>\n",
       "      <td>0.175833</td>\n",
       "      <td>0.537500</td>\n",
       "      <td>0.194017</td>\n",
       "      <td>1000</td>\n",
       "    </tr>\n",
       "    <tr>\n",
       "      <th>17</th>\n",
       "      <td>1</td>\n",
       "      <td>2011</td>\n",
       "      <td>1</td>\n",
       "      <td>0</td>\n",
       "      <td>2</td>\n",
       "      <td>1</td>\n",
       "      <td>2</td>\n",
       "      <td>0.216667</td>\n",
       "      <td>0.861667</td>\n",
       "      <td>0.146775</td>\n",
       "      <td>683</td>\n",
       "    </tr>\n",
       "    <tr>\n",
       "      <th>18</th>\n",
       "      <td>1</td>\n",
       "      <td>2011</td>\n",
       "      <td>1</td>\n",
       "      <td>0</td>\n",
       "      <td>3</td>\n",
       "      <td>1</td>\n",
       "      <td>2</td>\n",
       "      <td>0.292174</td>\n",
       "      <td>0.741739</td>\n",
       "      <td>0.208317</td>\n",
       "      <td>1650</td>\n",
       "    </tr>\n",
       "    <tr>\n",
       "      <th>19</th>\n",
       "      <td>1</td>\n",
       "      <td>2011</td>\n",
       "      <td>1</td>\n",
       "      <td>0</td>\n",
       "      <td>4</td>\n",
       "      <td>1</td>\n",
       "      <td>2</td>\n",
       "      <td>0.261667</td>\n",
       "      <td>0.538333</td>\n",
       "      <td>0.195904</td>\n",
       "      <td>1927</td>\n",
       "    </tr>\n",
       "  </tbody>\n",
       "</table>\n",
       "</div>"
      ],
      "text/plain": [
       "   season    yr mnth holiday weekday workingday weathersit      temp  \\\n",
       "0       1  2011    1       0       6          0          2  0.344167   \n",
       "1       1  2011    1       0       0          0          2  0.363478   \n",
       "2       1  2011    1       0       1          1          1  0.196364   \n",
       "3       1  2011    1       0       2          1          1  0.200000   \n",
       "4       1  2011    1       0       3          1          1  0.226957   \n",
       "5       1  2011    1       0       4          1          1  0.204348   \n",
       "6       1  2011    1       0       5          1          2  0.196522   \n",
       "7       1  2011    1       0       6          0          2  0.165000   \n",
       "8       1  2011    1       0       0          0          1  0.138333   \n",
       "9       1  2011    1       0       1          1          1  0.150833   \n",
       "10      1  2011    1       0       2          1          2  0.169091   \n",
       "11      1  2011    1       0       3          1          1  0.172727   \n",
       "12      1  2011    1       0       4          1          1  0.165000   \n",
       "13      1  2011    1       0       5          1          1  0.160870   \n",
       "14      1  2011    1       0       6          0          2  0.233333   \n",
       "15      1  2011    1       0       0          0          1  0.231667   \n",
       "16      1  2011    1       1       1          0          2  0.175833   \n",
       "17      1  2011    1       0       2          1          2  0.216667   \n",
       "18      1  2011    1       0       3          1          2  0.292174   \n",
       "19      1  2011    1       0       4          1          2  0.261667   \n",
       "\n",
       "         hum  windspeed   cnt  \n",
       "0   0.805833   0.160446   985  \n",
       "1   0.696087   0.248539   801  \n",
       "2   0.437273   0.248309  1349  \n",
       "3   0.590435   0.160296  1562  \n",
       "4   0.436957   0.186900  1600  \n",
       "5   0.518261   0.089565  1606  \n",
       "6   0.498696   0.168726  1510  \n",
       "7   0.535833   0.266804   959  \n",
       "8   0.434167   0.361950   822  \n",
       "9   0.482917   0.223267  1321  \n",
       "10  0.686364   0.122132  1263  \n",
       "11  0.599545   0.304627  1162  \n",
       "12  0.470417   0.301000  1406  \n",
       "13  0.537826   0.126548  1421  \n",
       "14  0.498750   0.157963  1248  \n",
       "15  0.483750   0.188433  1204  \n",
       "16  0.537500   0.194017  1000  \n",
       "17  0.861667   0.146775   683  \n",
       "18  0.741739   0.208317  1650  \n",
       "19  0.538333   0.195904  1927  "
      ]
     },
     "execution_count": 285,
     "metadata": {},
     "output_type": "execute_result"
    }
   ],
   "source": [
    "bike.head(20)"
   ]
  },
  {
   "cell_type": "code",
   "execution_count": 289,
   "metadata": {},
   "outputs": [
    {
     "data": {
      "text/plain": [
       "731"
      ]
     },
     "execution_count": 289,
     "metadata": {},
     "output_type": "execute_result"
    }
   ],
   "source": [
    "len(bike)"
   ]
  },
  {
   "cell_type": "markdown",
   "metadata": {},
   "source": [
    "Before any pre-processing techniques such as looking for invalid data , we'll look at the missing values "
   ]
  },
  {
   "cell_type": "code",
   "execution_count": 5,
   "metadata": {},
   "outputs": [
    {
     "name": "stdout",
     "output_type": "stream",
     "text": [
      "     Variables  Missing_percentage\n",
      "0      instant                   0\n",
      "1       dteday                   0\n",
      "2       season                   0\n",
      "3           yr                   0\n",
      "4         mnth                   0\n",
      "5      holiday                   0\n",
      "6      weekday                   0\n",
      "7   workingday                   0\n",
      "8   weathersit                   0\n",
      "9         temp                   0\n",
      "10       atemp                   0\n",
      "11         hum                   0\n",
      "12   windspeed                   0\n",
      "13      casual                   0\n",
      "14  registered                   0\n",
      "15         cnt                   0\n"
     ]
    }
   ],
   "source": [
    "missing_val = pd.DataFrame(bike.isnull().sum())\n",
    "missing_val = missing_val.reset_index()\n",
    "\n",
    "missing_val = missing_val.rename(columns = {'index': 'Variables', 0: 'Missing_percentage'})\n",
    "print(missing_val)"
   ]
  },
  {
   "cell_type": "code",
   "execution_count": 29,
   "metadata": {
    "collapsed": true
   },
   "outputs": [
    {
     "name": "stdout",
     "output_type": "stream",
     "text": [
      "dteday        datetime64[ns]\n",
      "season              category\n",
      "yr                  category\n",
      "mnth                category\n",
      "holiday             category\n",
      "weekday             category\n",
      "workingday          category\n",
      "weathersit          category\n",
      "temp                 float64\n",
      "atemp                float64\n",
      "hum                  float64\n",
      "windspeed            float64\n",
      "casual                 int64\n",
      "registered             int64\n",
      "cnt                    int64\n",
      "dtype: object\n"
     ]
    }
   ],
   "source": [
    "print(bike.dtypes)\n"
   ]
  },
  {
   "cell_type": "markdown",
   "metadata": {},
   "source": [
    "Conversion of numeric columns with discrete values into factors\n"
   ]
  },
  {
   "cell_type": "markdown",
   "metadata": {},
   "source": [
    "weathersit has 4 values i.e. 1,2,3,4 whose details is given below.I'll factorize it.\n"
   ]
  },
  {
   "cell_type": "markdown",
   "metadata": {},
   "source": [
    "1: Clear, Few clouds, Partly cloudy, Partly cloudy\n"
   ]
  },
  {
   "cell_type": "markdown",
   "metadata": {},
   "source": [
    "2: Mist + Cloudy, Mist + Broken clouds, Mist + Few clouds, Mist\n"
   ]
  },
  {
   "cell_type": "markdown",
   "metadata": {},
   "source": [
    "3: Light Snow, Light Rain + Thunderstorm + Scattered clouds, Light Rain + Scattered\n",
    "clouds.\n"
   ]
  },
  {
   "cell_type": "markdown",
   "metadata": {},
   "source": [
    "4: Heavy Rain + Ice Pallets + Thunderstorm + Mist, Snow + Fog.\n"
   ]
  },
  {
   "cell_type": "code",
   "execution_count": 6,
   "metadata": {
    "collapsed": true
   },
   "outputs": [
    {
     "data": {
      "text/html": [
       "<div>\n",
       "<style scoped>\n",
       "    .dataframe tbody tr th:only-of-type {\n",
       "        vertical-align: middle;\n",
       "    }\n",
       "\n",
       "    .dataframe tbody tr th {\n",
       "        vertical-align: top;\n",
       "    }\n",
       "\n",
       "    .dataframe thead th {\n",
       "        text-align: right;\n",
       "    }\n",
       "</style>\n",
       "<table border=\"1\" class=\"dataframe\">\n",
       "  <thead>\n",
       "    <tr style=\"text-align: right;\">\n",
       "      <th></th>\n",
       "      <th>instant</th>\n",
       "      <th>dteday</th>\n",
       "      <th>season</th>\n",
       "      <th>yr</th>\n",
       "      <th>mnth</th>\n",
       "      <th>holiday</th>\n",
       "      <th>weekday</th>\n",
       "      <th>workingday</th>\n",
       "      <th>weathersit</th>\n",
       "      <th>temp</th>\n",
       "      <th>atemp</th>\n",
       "      <th>hum</th>\n",
       "      <th>windspeed</th>\n",
       "      <th>casual</th>\n",
       "      <th>registered</th>\n",
       "      <th>cnt</th>\n",
       "    </tr>\n",
       "  </thead>\n",
       "  <tbody>\n",
       "    <tr>\n",
       "      <th>0</th>\n",
       "      <td>1</td>\n",
       "      <td>2011-01-01</td>\n",
       "      <td>1</td>\n",
       "      <td>0</td>\n",
       "      <td>1</td>\n",
       "      <td>0</td>\n",
       "      <td>6</td>\n",
       "      <td>0</td>\n",
       "      <td>2</td>\n",
       "      <td>0.344167</td>\n",
       "      <td>0.363625</td>\n",
       "      <td>0.805833</td>\n",
       "      <td>0.160446</td>\n",
       "      <td>331</td>\n",
       "      <td>654</td>\n",
       "      <td>985</td>\n",
       "    </tr>\n",
       "    <tr>\n",
       "      <th>1</th>\n",
       "      <td>2</td>\n",
       "      <td>2011-01-02</td>\n",
       "      <td>1</td>\n",
       "      <td>0</td>\n",
       "      <td>1</td>\n",
       "      <td>0</td>\n",
       "      <td>0</td>\n",
       "      <td>0</td>\n",
       "      <td>2</td>\n",
       "      <td>0.363478</td>\n",
       "      <td>0.353739</td>\n",
       "      <td>0.696087</td>\n",
       "      <td>0.248539</td>\n",
       "      <td>131</td>\n",
       "      <td>670</td>\n",
       "      <td>801</td>\n",
       "    </tr>\n",
       "    <tr>\n",
       "      <th>2</th>\n",
       "      <td>3</td>\n",
       "      <td>2011-01-03</td>\n",
       "      <td>1</td>\n",
       "      <td>0</td>\n",
       "      <td>1</td>\n",
       "      <td>0</td>\n",
       "      <td>1</td>\n",
       "      <td>1</td>\n",
       "      <td>1</td>\n",
       "      <td>0.196364</td>\n",
       "      <td>0.189405</td>\n",
       "      <td>0.437273</td>\n",
       "      <td>0.248309</td>\n",
       "      <td>120</td>\n",
       "      <td>1229</td>\n",
       "      <td>1349</td>\n",
       "    </tr>\n",
       "    <tr>\n",
       "      <th>3</th>\n",
       "      <td>4</td>\n",
       "      <td>2011-01-04</td>\n",
       "      <td>1</td>\n",
       "      <td>0</td>\n",
       "      <td>1</td>\n",
       "      <td>0</td>\n",
       "      <td>2</td>\n",
       "      <td>1</td>\n",
       "      <td>1</td>\n",
       "      <td>0.200000</td>\n",
       "      <td>0.212122</td>\n",
       "      <td>0.590435</td>\n",
       "      <td>0.160296</td>\n",
       "      <td>108</td>\n",
       "      <td>1454</td>\n",
       "      <td>1562</td>\n",
       "    </tr>\n",
       "    <tr>\n",
       "      <th>4</th>\n",
       "      <td>5</td>\n",
       "      <td>2011-01-05</td>\n",
       "      <td>1</td>\n",
       "      <td>0</td>\n",
       "      <td>1</td>\n",
       "      <td>0</td>\n",
       "      <td>3</td>\n",
       "      <td>1</td>\n",
       "      <td>1</td>\n",
       "      <td>0.226957</td>\n",
       "      <td>0.229270</td>\n",
       "      <td>0.436957</td>\n",
       "      <td>0.186900</td>\n",
       "      <td>82</td>\n",
       "      <td>1518</td>\n",
       "      <td>1600</td>\n",
       "    </tr>\n",
       "  </tbody>\n",
       "</table>\n",
       "</div>"
      ],
      "text/plain": [
       "   instant      dteday  season  yr  mnth  holiday  weekday  workingday  \\\n",
       "0        1  2011-01-01       1   0     1        0        6           0   \n",
       "1        2  2011-01-02       1   0     1        0        0           0   \n",
       "2        3  2011-01-03       1   0     1        0        1           1   \n",
       "3        4  2011-01-04       1   0     1        0        2           1   \n",
       "4        5  2011-01-05       1   0     1        0        3           1   \n",
       "\n",
       "   weathersit      temp     atemp       hum  windspeed  casual  registered  \\\n",
       "0           2  0.344167  0.363625  0.805833   0.160446     331         654   \n",
       "1           2  0.363478  0.353739  0.696087   0.248539     131         670   \n",
       "2           1  0.196364  0.189405  0.437273   0.248309     120        1229   \n",
       "3           1  0.200000  0.212122  0.590435   0.160296     108        1454   \n",
       "4           1  0.226957  0.229270  0.436957   0.186900      82        1518   \n",
       "\n",
       "    cnt  \n",
       "0   985  \n",
       "1   801  \n",
       "2  1349  \n",
       "3  1562  \n",
       "4  1600  "
      ]
     },
     "execution_count": 6,
     "metadata": {},
     "output_type": "execute_result"
    }
   ],
   "source": [
    "bike.head(5)"
   ]
  },
  {
   "cell_type": "code",
   "execution_count": 5,
   "metadata": {},
   "outputs": [],
   "source": [
    "bike = bike.drop(columns=\"instant\")"
   ]
  },
  {
   "cell_type": "code",
   "execution_count": 271,
   "metadata": {},
   "outputs": [
    {
     "name": "stderr",
     "output_type": "stream",
     "text": [
      "C:\\Users\\Mahesh\\Anaconda3\\lib\\site-packages\\IPython\\core\\interactiveshell.py:3325: FutureWarning: specifying 'categories' or 'ordered' in .astype() is deprecated; pass a CategoricalDtype instead\n",
      "  exec(code_obj, self.user_global_ns, self.user_ns)\n"
     ]
    }
   ],
   "source": [
    "bike['weekday'] = bike['weekday'].astype('object').astype('category',ordered = True)"
   ]
  },
  {
   "cell_type": "code",
   "execution_count": 6,
   "metadata": {},
   "outputs": [],
   "source": [
    "bike['dteday'] = pd.to_datetime(bike['dteday'])"
   ]
  },
  {
   "cell_type": "code",
   "execution_count": 7,
   "metadata": {},
   "outputs": [
    {
     "name": "stdout",
     "output_type": "stream",
     "text": [
      "AxesSubplot(0.125,0.125;0.775x0.755)\n"
     ]
    },
    {
     "data": {
      "image/png": "[encoded data removed]",
      "text/plain": [
       "<Figure size 432x288 with 1 Axes>"
      ]
     },
     "metadata": {
      "needs_background": "light"
     },
     "output_type": "display_data"
    }
   ],
   "source": [
    "print(sns.barplot(x='weathersit',y='cnt',data=bike,hue='weathersit'))\n"
   ]
  },
  {
   "cell_type": "markdown",
   "metadata": {},
   "source": [
    "As we can see , we only have discrete values of weathersit or weather , therefore we will factorize it."
   ]
  },
  {
   "cell_type": "markdown",
   "metadata": {},
   "source": [
    "1: Clear, Few clouds, Partly cloudy, Partly cloudy\n"
   ]
  },
  {
   "cell_type": "markdown",
   "metadata": {},
   "source": [
    "2: Mist + Cloudy, Mist + Broken clouds, Mist + Few clouds, Mist\n"
   ]
  },
  {
   "cell_type": "markdown",
   "metadata": {},
   "source": [
    "3: Light Snow, Light Rain + Thunderstorm + Scattered clouds, Light Rain + Scattered\n",
    "clouds.\n"
   ]
  },
  {
   "cell_type": "markdown",
   "metadata": {},
   "source": [
    "4: Heavy Rain + Ice Pallets + Thunderstorm + Mist, Snow + Fog."
   ]
  },
  {
   "cell_type": "markdown",
   "metadata": {},
   "source": [
    "We'll factorize the weathersit as it only contains 4 discrete options."
   ]
  },
  {
   "cell_type": "code",
   "execution_count": 6,
   "metadata": {},
   "outputs": [
    {
     "name": "stderr",
     "output_type": "stream",
     "text": [
      "C:\\Users\\Mahesh\\Anaconda3\\lib\\site-packages\\IPython\\core\\interactiveshell.py:3325: FutureWarning: specifying 'categories' or 'ordered' in .astype() is deprecated; pass a CategoricalDtype instead\n",
      "  exec(code_obj, self.user_global_ns, self.user_ns)\n"
     ]
    }
   ],
   "source": [
    "bike['weathersit'] = bike['weathersit'].astype('object').astype('category',ordered = True)"
   ]
  },
  {
   "cell_type": "code",
   "execution_count": 7,
   "metadata": {},
   "outputs": [
    {
     "name": "stdout",
     "output_type": "stream",
     "text": [
      "AxesSubplot(0.125,0.125;0.775x0.755)\n"
     ]
    },
    {
     "data": {
      "image/png": "[encoded data removed]",
      "text/plain": [
       "<Figure size 432x288 with 1 Axes>"
      ]
     },
     "metadata": {
      "needs_background": "light"
     },
     "output_type": "display_data"
    }
   ],
   "source": [
    "print(sns.barplot(x='season',y='cnt',data=bike,hue='season'))"
   ]
  },
  {
   "cell_type": "markdown",
   "metadata": {},
   "source": [
    "Season is discretized as well  , 1 - spring , 2-summer  ,3 - fall and 4 - winter\n"
   ]
  },
  {
   "cell_type": "markdown",
   "metadata": {},
   "source": [
    "Observation : bike count is least during the spring , and peaks during the season of fall"
   ]
  },
  {
   "cell_type": "markdown",
   "metadata": {},
   "source": [
    "Also , the other facet of the data-set is that average count or average cnt is steady throughout the season 2 , 3 and 4\n"
   ]
  },
  {
   "cell_type": "raw",
   "metadata": {},
   "source": [
    "We'll factorize the season variable."
   ]
  },
  {
   "cell_type": "code",
   "execution_count": 8,
   "metadata": {},
   "outputs": [],
   "source": [
    "bike['season'] = bike['season'].astype('object').astype('category',ordered = True)"
   ]
  },
  {
   "cell_type": "code",
   "execution_count": 9,
   "metadata": {},
   "outputs": [
    {
     "name": "stderr",
     "output_type": "stream",
     "text": [
      "C:\\Users\\Mahesh\\Anaconda3\\lib\\site-packages\\pandas\\core\\indexing.py:190: SettingWithCopyWarning: \n",
      "A value is trying to be set on a copy of a slice from a DataFrame\n",
      "\n",
      "See the caveats in the documentation: http://pandas.pydata.org/pandas-docs/stable/indexing.html#indexing-view-versus-copy\n",
      "  self._setitem_with_indexer(indexer, value)\n"
     ]
    }
   ],
   "source": [
    "for i in range(0,len(bike)):\n",
    "    if(bike['yr'].iloc[i] == 0):\n",
    "        bike['yr'].iloc[i] = 2011\n",
    "    else:\n",
    "        bike['yr'].iloc[i] = 2012\n"
   ]
  },
  {
   "cell_type": "code",
   "execution_count": 10,
   "metadata": {},
   "outputs": [
    {
     "name": "stdout",
     "output_type": "stream",
     "text": [
      "AxesSubplot(0.125,0.125;0.775x0.755)\n"
     ]
    },
    {
     "data": {
      "image/png": "[encoded data removed]",
      "text/plain": [
       "<Figure size 432x288 with 1 Axes>"
      ]
     },
     "metadata": {
      "needs_background": "light"
     },
     "output_type": "display_data"
    }
   ],
   "source": [
    "print(sns.barplot(x='yr',y='cnt',data=bike,hue='yr'))"
   ]
  },
  {
   "cell_type": "markdown",
   "metadata": {},
   "source": [
    "We'll factorize the year variable as it is discrete. \n"
   ]
  },
  {
   "cell_type": "markdown",
   "metadata": {},
   "source": [
    "Also , we can observe the bike cnt has increased with year."
   ]
  },
  {
   "cell_type": "code",
   "execution_count": 12,
   "metadata": {},
   "outputs": [],
   "source": [
    "bike['yr'] = bike['yr'].astype('object').astype('category',ordered = True)"
   ]
  },
  {
   "cell_type": "code",
   "execution_count": 13,
   "metadata": {},
   "outputs": [
    {
     "name": "stdout",
     "output_type": "stream",
     "text": [
      "AxesSubplot(0.125,0.125;0.775x0.755)\n"
     ]
    },
    {
     "data": {
      "image/png": "[encoded data removed]",
      "text/plain": [
       "<Figure size 432x288 with 1 Axes>"
      ]
     },
     "metadata": {
      "needs_background": "light"
     },
     "output_type": "display_data"
    }
   ],
   "source": [
    "print(sns.barplot(x='workingday',y='cnt',data=bike,hue='workingday'))"
   ]
  },
  {
   "cell_type": "code",
   "execution_count": 294,
   "metadata": {},
   "outputs": [
    {
     "name": "stdout",
     "output_type": "stream",
     "text": [
      "AxesSubplot(0.125,0.125;0.775x0.755)\n",
      "710\n"
     ]
    },
    {
     "data": {
      "image/png": "[encoded data removed]",
      "text/plain": [
       "<Figure size 432x288 with 1 Axes>"
      ]
     },
     "metadata": {
      "needs_background": "light"
     },
     "output_type": "display_data"
    }
   ],
   "source": [
    "print(sns.barplot(x='holiday',y='cnt',data=bike,hue='holiday'))\n",
    "\n",
    "cnt1 = 0 \n",
    "for i in range(0,len(bike)):\n",
    "    if(bike['holiday'].iloc[i]==0):\n",
    "        cnt1 = cnt1+1\n",
    "print(cnt1)"
   ]
  },
  {
   "cell_type": "markdown",
   "metadata": {},
   "source": [
    "A couple of things : bike count total is more for working day than holiday.Also its discrete , so we will factorize it."
   ]
  },
  {
   "cell_type": "code",
   "execution_count": 14,
   "metadata": {},
   "outputs": [],
   "source": [
    "bike['workingday'] = bike['workingday'].astype('object').astype('category',ordered =True)"
   ]
  },
  {
   "cell_type": "code",
   "execution_count": 15,
   "metadata": {},
   "outputs": [
    {
     "data": {
      "text/plain": [
       "<matplotlib.axes._subplots.AxesSubplot at 0x17d59a52550>"
      ]
     },
     "execution_count": 15,
     "metadata": {},
     "output_type": "execute_result"
    },
    {
     "data": {
      "image/png": "[encoded data removed]",
      "text/plain": [
       "<Figure size 432x288 with 1 Axes>"
      ]
     },
     "metadata": {
      "needs_background": "light"
     },
     "output_type": "display_data"
    }
   ],
   "source": [
    "sns.barplot(x='weekday',y='cnt',data=bike,hue='weekday')"
   ]
  },
  {
   "cell_type": "markdown",
   "metadata": {},
   "source": [
    "From the above barplot , we can see that the weekdays are discrete as well.Therefore we will factorize it."
   ]
  },
  {
   "cell_type": "markdown",
   "metadata": {},
   "source": [
    "Also the bike count is steady throughout the weekdays."
   ]
  },
  {
   "cell_type": "code",
   "execution_count": 16,
   "metadata": {},
   "outputs": [],
   "source": [
    "bike['weekday'] = bike['weekday'].astype('object').astype('category',ordered=True)"
   ]
  },
  {
   "cell_type": "markdown",
   "metadata": {},
   "source": [
    "We will also factorize holiday as it's a discrete variable too"
   ]
  },
  {
   "cell_type": "code",
   "execution_count": 17,
   "metadata": {},
   "outputs": [],
   "source": [
    "bike['holiday'] = bike['holiday'].astype('object').astype('category',ordered=True)"
   ]
  },
  {
   "cell_type": "code",
   "execution_count": 18,
   "metadata": {},
   "outputs": [],
   "source": [
    "bike['mnth'] = bike['mnth'].astype('object').astype('category',ordered=True)"
   ]
  },
  {
   "cell_type": "markdown",
   "metadata": {},
   "source": [
    "Exploratory Data Analysis"
   ]
  },
  {
   "cell_type": "code",
   "execution_count": 24,
   "metadata": {},
   "outputs": [
    {
     "data": {
      "text/plain": [
       "Text(0, 0.5, 'Count')"
      ]
     },
     "execution_count": 24,
     "metadata": {},
     "output_type": "execute_result"
    },
    {
     "data": {
      "image/png": "[encoded data removed]",
      "text/plain": [
       "<Figure size 1080x576 with 1 Axes>"
      ]
     },
     "metadata": {
      "needs_background": "light"
     },
     "output_type": "display_data"
    }
   ],
   "source": [
    "fig,ax1=pl.subplots(figsize=(15,8))\n",
    "sns.scatterplot(x='temp',y='cnt',data=bike,hue='cnt',ax=ax1)\n",
    "pl.xlabel('Temperature')\n",
    "pl.ylabel('Count')"
   ]
  },
  {
   "cell_type": "markdown",
   "metadata": {},
   "source": [
    "We can see from the above scatterplot that the bike count is directly in proportion with the Temperature(or temp) until it reaches a certain optimum temperature and then decreases as the temperature increases."
   ]
  },
  {
   "cell_type": "code",
   "execution_count": 41,
   "metadata": {},
   "outputs": [
    {
     "data": {
      "text/plain": [
       "<matplotlib.axes._subplots.AxesSubplot at 0x1dbb3c88438>"
      ]
     },
     "execution_count": 41,
     "metadata": {},
     "output_type": "execute_result"
    },
    {
     "data": {
      "image/png": "[encoded data removed]",
      "text/plain": [
       "<Figure size 1080x576 with 1 Axes>"
      ]
     },
     "metadata": {
      "needs_background": "light"
     },
     "output_type": "display_data"
    }
   ],
   "source": [
    "fig,ax1=pl.subplots(figsize=(15,8))\n",
    "sns.scatterplot(x='atemp',y='cnt',data=bike,hue='cnt',ax=ax1)"
   ]
  },
  {
   "cell_type": "markdown",
   "metadata": {},
   "source": [
    "atemp vs cnt and temp vs cnt produces the same results.\n",
    "Therefore we will remove the atemp."
   ]
  },
  {
   "cell_type": "code",
   "execution_count": 19,
   "metadata": {},
   "outputs": [],
   "source": [
    "bike = bike.drop(columns='atemp')"
   ]
  },
  {
   "cell_type": "code",
   "execution_count": 20,
   "metadata": {},
   "outputs": [
    {
     "data": {
      "text/plain": [
       "Text(0, 0.5, 'Count')"
      ]
     },
     "execution_count": 20,
     "metadata": {},
     "output_type": "execute_result"
    },
    {
     "data": {
      "image/png": "[encoded data removed]",
      "text/plain": [
       "<Figure size 1080x576 with 1 Axes>"
      ]
     },
     "metadata": {
      "needs_background": "light"
     },
     "output_type": "display_data"
    }
   ],
   "source": [
    "fig,ax1=pl.subplots(figsize=(15,8))\n",
    "sns.barplot(x='mnth',y='cnt',data=bike,ax=ax1)\n",
    "pl.xlabel('Month')\n",
    "pl.ylabel('Count')"
   ]
  },
  {
   "cell_type": "markdown",
   "metadata": {},
   "source": [
    "The count increases linearly with Month till the Month no 6 , goes down during August and up in September and then linearly decreases"
   ]
  },
  {
   "cell_type": "markdown",
   "metadata": {},
   "source": [
    "Season and Month wise distribution with "
   ]
  },
  {
   "cell_type": "code",
   "execution_count": 21,
   "metadata": {},
   "outputs": [
    {
     "data": {
      "text/plain": [
       "Text(0, 0.5, 'Count')"
      ]
     },
     "execution_count": 21,
     "metadata": {},
     "output_type": "execute_result"
    },
    {
     "data": {
      "image/png": "[encoded data removed]",
      "text/plain": [
       "<Figure size 1080x576 with 1 Axes>"
      ]
     },
     "metadata": {
      "needs_background": "light"
     },
     "output_type": "display_data"
    }
   ],
   "source": [
    "fig,ax=pl.subplots(figsize=(15,8))\n",
    "sns.barplot(x='mnth',y='cnt',data=bike[['mnth','cnt','season']],hue='season',ax=ax)\n",
    "pl.xlabel('Month')\n",
    "pl.ylabel('Count')"
   ]
  },
  {
   "cell_type": "markdown",
   "metadata": {},
   "source": [
    "Four seasons : 1-spring , 2-summer , 3 - fall and 4 - winter."
   ]
  },
  {
   "cell_type": "markdown",
   "metadata": {},
   "source": [
    "The above graph intexmixes the season with Month.From the above graph , we can observe that the sum of the  bike count is maximum for fall and then for summer and winter(Refer In[12])."
   ]
  },
  {
   "cell_type": "markdown",
   "metadata": {},
   "source": [
    "Outlier Analysis"
   ]
  },
  {
   "cell_type": "code",
   "execution_count": 44,
   "metadata": {},
   "outputs": [
    {
     "data": {
      "image/png": "[encoded data removed]",
      "text/plain": [
       "<Figure size 1080x576 with 1 Axes>"
      ]
     },
     "metadata": {
      "needs_background": "light"
     },
     "output_type": "display_data"
    }
   ],
   "source": [
    "fig,ax=pl.subplots(figsize=(15,8))\n",
    "sns.boxplot(data=bike['cnt'])\n",
    "ax.set_title('No of Outliers')\n",
    "pl.show()"
   ]
  },
  {
   "cell_type": "markdown",
   "metadata": {},
   "source": [
    "No outliers for the bike count.Therfore no outlier analysis needed."
   ]
  },
  {
   "cell_type": "code",
   "execution_count": 26,
   "metadata": {},
   "outputs": [
    {
     "data": {
      "text/plain": [
       "instant          int64\n",
       "dteday          object\n",
       "season        category\n",
       "yr            category\n",
       "mnth          category\n",
       "holiday       category\n",
       "weekday       category\n",
       "workingday    category\n",
       "weathersit    category\n",
       "temp           float64\n",
       "hum            float64\n",
       "windspeed      float64\n",
       "casual           int64\n",
       "registered       int64\n",
       "cnt              int64\n",
       "dtype: object"
      ]
     },
     "execution_count": 26,
     "metadata": {},
     "output_type": "execute_result"
    }
   ],
   "source": [
    "bike.dtypes"
   ]
  },
  {
   "cell_type": "code",
   "execution_count": 23,
   "metadata": {},
   "outputs": [
    {
     "data": {
      "image/png": "[encoded data removed]",
      "text/plain": [
       "<Figure size 1080x576 with 1 Axes>"
      ]
     },
     "metadata": {
      "needs_background": "light"
     },
     "output_type": "display_data"
    }
   ],
   "source": [
    "#fig,ax=pl.subplots(figsize=(5,8))\n",
    "fig,ax=pl.subplots(figsize=(15,8))\n",
    "#Box plot for Temp_windspeed_humidity_outliers\n",
    "sns.boxplot(data=bike[['temp','windspeed','hum']])\n",
    "ax.set_title('Temp,Winspeed and Humidity outiers')\n",
    "pl.show()"
   ]
  },
  {
   "cell_type": "markdown",
   "metadata": {},
   "source": [
    "No outliers for temp , but there are outliers for windspeed and humidity."
   ]
  },
  {
   "cell_type": "markdown",
   "metadata": {},
   "source": [
    "The outliers for windspeed and humidity can be removed via Mean , median or KNN.\n"
   ]
  },
  {
   "cell_type": "code",
   "execution_count": 27,
   "metadata": {},
   "outputs": [],
   "source": [
    "wind_hum = pd.DataFrame(bike,columns=['windspeed','hum'])"
   ]
  },
  {
   "cell_type": "code",
   "execution_count": 28,
   "metadata": {},
   "outputs": [
    {
     "name": "stdout",
     "output_type": "stream",
     "text": [
      "windspeed\n",
      "0.2332145\n",
      "0.13495\n",
      "0.0982645\n",
      "-0.012446750000000034\n",
      "0.38061125\n",
      "hum\n",
      "0.7302085\n",
      "0.52\n",
      "0.21020850000000002\n",
      "0.20468725\n",
      "1.0455212500000002\n"
     ]
    }
   ],
   "source": [
    "cnames = ['windspeed','hum']\n",
    "\n",
    "for i in cnames:\n",
    "    print(i)\n",
    "    q75,q25=np.percentile(wind_hum.loc[:,i],[75,25]) # Divide data into 75%quantile and 25%quantile.\n",
    "    print(q75)\n",
    "    print(q25)\n",
    "    iqr=q75-q25 #Inter quantile range\n",
    "    print(iqr)\n",
    "    min=q25-(iqr*1.5) #inner fence\n",
    "    max=q75+(iqr*1.5) #outer fence\n",
    "    print(min)\n",
    "    print(max)\n",
    "    wind_hum.loc[wind_hum.loc[:,i]<min,:i]=np.nan  #Replace with NA\n",
    "    wind_hum.loc[wind_hum.loc[:,i]>max,:i]=np.nan \n",
    "    "
   ]
  },
  {
   "cell_type": "code",
   "execution_count": 29,
   "metadata": {},
   "outputs": [],
   "source": [
    "wind_hum['windspeed']=wind_hum['windspeed'].fillna(wind_hum['windspeed'].mean())\n",
    "wind_hum['hum']=wind_hum['hum'].fillna(wind_hum['hum'].mean())"
   ]
  },
  {
   "cell_type": "code",
   "execution_count": 30,
   "metadata": {},
   "outputs": [
    {
     "data": {
      "image/png": "[encoded data removed]",
      "text/plain": [
       "<Figure size 1080x576 with 1 Axes>"
      ]
     },
     "metadata": {
      "needs_background": "light"
     },
     "output_type": "display_data"
    }
   ],
   "source": [
    "fig,ax=pl.subplots(figsize=(15,8))\n",
    "#Box plot for Temp_windspeed_humidity_outliers\n",
    "sns.boxplot(data=wind_hum[['windspeed','hum']])\n",
    "ax.set_title('Winspeed and Humidity outiers after mean ')\n",
    "pl.show()"
   ]
  },
  {
   "cell_type": "markdown",
   "metadata": {},
   "source": [
    "Outliers for humidity have been removed , but there are some present for windspeed."
   ]
  },
  {
   "cell_type": "markdown",
   "metadata": {},
   "source": [
    "Lets now impute the outlier with median and see if there's any outlier/s present."
   ]
  },
  {
   "cell_type": "code",
   "execution_count": 100,
   "metadata": {},
   "outputs": [],
   "source": [
    "wind_hum1 = pd.DataFrame(bike,columns=['windspeed','hum'])"
   ]
  },
  {
   "cell_type": "code",
   "execution_count": 101,
   "metadata": {},
   "outputs": [
    {
     "name": "stdout",
     "output_type": "stream",
     "text": [
      "windspeed\n",
      "0.2332145\n",
      "0.13495\n",
      "0.0982645\n",
      "-0.012446750000000034\n",
      "0.38061125\n",
      "hum\n",
      "0.7302085\n",
      "0.52\n",
      "0.21020850000000002\n",
      "0.20468725\n",
      "1.0455212500000002\n"
     ]
    }
   ],
   "source": [
    "for i in cnames:\n",
    "    print(i)\n",
    "    q75,q25=np.percentile(wind_hum1.loc[:,i],[75,25]) # Divide data into 75%quantile and 25%quantile.\n",
    "    print(q75)\n",
    "    print(q25)\n",
    "    iqr=q75-q25 #Inter quantile range\n",
    "    print(iqr)\n",
    "    min=q25-(iqr*1.5) #inner fence\n",
    "    max=q75+(iqr*1.5) #outer fence\n",
    "    print(min)\n",
    "    print(max)\n",
    "    wind_hum1.loc[wind_hum1.loc[:,i]<min,:i]=np.nan  #Replace with NA\n",
    "    wind_hum1.loc[wind_hum1.loc[:,i]>max,:i]=np.nan \n",
    "    "
   ]
  },
  {
   "cell_type": "code",
   "execution_count": 103,
   "metadata": {},
   "outputs": [],
   "source": [
    "wind_hum1.loc[wind_hum.loc[:,i]<min,:i]=np.nan  #Replace with NA\n",
    "wind_hum1.loc[wind_hum.loc[:,i]>max,:i]=np.nan \n",
    "    "
   ]
  },
  {
   "cell_type": "code",
   "execution_count": 104,
   "metadata": {},
   "outputs": [],
   "source": [
    "wind_hum1['windspeed']=wind_hum1['windspeed'].fillna(wind_hum1['windspeed'].median())\n",
    "wind_hum1['hum']=wind_hum1['hum'].fillna(wind_hum1['hum'].median())"
   ]
  },
  {
   "cell_type": "code",
   "execution_count": 105,
   "metadata": {},
   "outputs": [
    {
     "data": {
      "image/png": "[encoded data removed]",
      "text/plain": [
       "<Figure size 1080x576 with 1 Axes>"
      ]
     },
     "metadata": {
      "needs_background": "light"
     },
     "output_type": "display_data"
    }
   ],
   "source": [
    "#For Median\n",
    "fig,ax=pl.subplots(figsize=(15,8))\n",
    "#Box plot for Temp_windspeed_humidity_outliers\n",
    "sns.boxplot(data=wind_hum1[['windspeed','hum']])\n",
    "ax.set_title('Outlier after median imputation')\n",
    "pl.show()"
   ]
  },
  {
   "cell_type": "markdown",
   "metadata": {},
   "source": [
    "Imputing the outliers with median bears the same result as it did with mean."
   ]
  },
  {
   "cell_type": "markdown",
   "metadata": {},
   "source": [
    "We'll try it with KNN Imputation"
   ]
  },
  {
   "cell_type": "code",
   "execution_count": 112,
   "metadata": {},
   "outputs": [],
   "source": [
    "wind_hum = pd.DataFrame(bike,columns=['windspeed','hum'])"
   ]
  },
  {
   "cell_type": "code",
   "execution_count": 113,
   "metadata": {},
   "outputs": [
    {
     "name": "stdout",
     "output_type": "stream",
     "text": [
      "windspeed\n",
      "0.2332145\n",
      "0.13495\n",
      "0.0982645\n",
      "-0.012446750000000034\n",
      "0.38061125\n",
      "hum\n",
      "0.7302085\n",
      "0.52\n",
      "0.21020850000000002\n",
      "0.20468725\n",
      "1.0455212500000002\n"
     ]
    }
   ],
   "source": [
    "for i in cnames:\n",
    "    print(i)\n",
    "    q75,q25=np.percentile(wind_hum.loc[:,i],[75,25]) # Divide data into 75%quantile and 25%quantile.\n",
    "    print(q75)\n",
    "    print(q25)\n",
    "    iqr=q75-q25 #Inter quantile range\n",
    "    print(iqr)\n",
    "    min=q25-(iqr*1.5) #inner fence\n",
    "    max=q75+(iqr*1.5) #outer fence\n",
    "    print(min)\n",
    "    print(max)\n",
    "    wind_hum.loc[wind_hum.loc[:,i]<min,:i]=np.nan  #Replace with NA\n",
    "    wind_hum.loc[wind_hum.loc[:,i]>max,:i]=np.nan \n",
    "    "
   ]
  },
  {
   "cell_type": "code",
   "execution_count": 114,
   "metadata": {},
   "outputs": [
    {
     "name": "stdout",
     "output_type": "stream",
     "text": [
      "Imputing row 1/731 with 0 missing, elapsed time: 0.173\n",
      "Imputing row 101/731 with 0 missing, elapsed time: 0.256\n",
      "Imputing row 201/731 with 0 missing, elapsed time: 0.256\n",
      "Imputing row 301/731 with 0 missing, elapsed time: 0.256\n",
      "Imputing row 401/731 with 0 missing, elapsed time: 0.256\n",
      "Imputing row 501/731 with 0 missing, elapsed time: 0.256\n",
      "Imputing row 601/731 with 0 missing, elapsed time: 0.262\n",
      "Imputing row 701/731 with 0 missing, elapsed time: 0.263\n",
      "[KNN] Warning: 4/1462 still missing after imputation, replacing with 0\n"
     ]
    }
   ],
   "source": [
    "wind_hum = pd.DataFrame( KNN(k=3).fit_transform(wind_hum) , columns=wind_hum.columns)"
   ]
  },
  {
   "cell_type": "code",
   "execution_count": 115,
   "metadata": {},
   "outputs": [
    {
     "data": {
      "image/png": "[encoded data removed]",
      "text/plain": [
       "<Figure size 1080x576 with 1 Axes>"
      ]
     },
     "metadata": {
      "needs_background": "light"
     },
     "output_type": "display_data"
    }
   ],
   "source": [
    "fig,ax=pl.subplots(figsize=(15,8))\n",
    "#Box plot for Temp_windspeed_humidity_outliers\n",
    "sns.boxplot(data=wind_hum[['windspeed','hum']])\n",
    "ax.set_title('Outlier analysis afte KNN Imputation')\n",
    "pl.show()"
   ]
  },
  {
   "cell_type": "markdown",
   "metadata": {},
   "source": [
    "There are some outliers present after KNN Imputation in humidity and same number of windspeed outliers are present for the windspeed attribute.\n"
   ]
  },
  {
   "cell_type": "markdown",
   "metadata": {},
   "source": [
    "From the above graphs of analysing outliers post imputation with KNN , Mean and Median , i'll go with mean."
   ]
  },
  {
   "cell_type": "code",
   "execution_count": 31,
   "metadata": {},
   "outputs": [],
   "source": [
    "bike['windspeed'] = bike['windspeed'].replace(wind_hum['windspeed'])"
   ]
  },
  {
   "cell_type": "code",
   "execution_count": 32,
   "metadata": {},
   "outputs": [],
   "source": [
    "bike['hum'] = bike['hum'].replace(wind_hum['hum'])"
   ]
  },
  {
   "cell_type": "markdown",
   "metadata": {},
   "source": [
    "Incorporation of the imputed humidity(hum) and winspeed into bike is completed."
   ]
  },
  {
   "cell_type": "markdown",
   "metadata": {},
   "source": [
    "Before diving into model creation , we'll look for correlation between variables for the purpose of Dimensionaliy Reduction"
   ]
  },
  {
   "cell_type": "code",
   "execution_count": 33,
   "metadata": {},
   "outputs": [
    {
     "data": {
      "text/plain": [
       "instant          int64\n",
       "dteday          object\n",
       "season        category\n",
       "yr            category\n",
       "mnth          category\n",
       "holiday       category\n",
       "weekday       category\n",
       "workingday    category\n",
       "weathersit    category\n",
       "temp           float64\n",
       "hum            float64\n",
       "windspeed      float64\n",
       "casual           int64\n",
       "registered       int64\n",
       "cnt              int64\n",
       "dtype: object"
      ]
     },
     "execution_count": 33,
     "metadata": {},
     "output_type": "execute_result"
    }
   ],
   "source": [
    "bike.dtypes"
   ]
  },
  {
   "cell_type": "code",
   "execution_count": 35,
   "metadata": {},
   "outputs": [],
   "source": [
    "bike_numeric = bike[['temp','hum','windspeed','casual','registered','cnt']].corr()"
   ]
  },
  {
   "cell_type": "code",
   "execution_count": 36,
   "metadata": {},
   "outputs": [
    {
     "data": {
      "image/png": "[encoded data removed]",
      "text/plain": [
       "<Figure size 720x360 with 2 Axes>"
      ]
     },
     "metadata": {
      "needs_background": "light"
     },
     "output_type": "display_data"
    }
   ],
   "source": [
    "pl.figure(figsize=(10,5))\n",
    "sns.heatmap(bike_numeric,annot=True)\n",
    "ax.set_title(\"Correlation Matrix\")\n",
    "pl.show()\n"
   ]
  },
  {
   "cell_type": "markdown",
   "metadata": {},
   "source": [
    "From the above heatmap , we can observe that casual and registered are heavily co-related to cnt.\n",
    "Therefore we will drop them out of the bike dataframe."
   ]
  },
  {
   "cell_type": "markdown",
   "metadata": {},
   "source": [
    "Also , the other reason is that casual and registered is directly related to cnt"
   ]
  },
  {
   "cell_type": "code",
   "execution_count": 37,
   "metadata": {},
   "outputs": [],
   "source": [
    "bike=bike.drop(columns={'casual','registered'})"
   ]
  },
  {
   "cell_type": "code",
   "execution_count": 348,
   "metadata": {},
   "outputs": [],
   "source": [
    "#bike = bike.drop(columns='dteday')\n",
    "bike = bike.drop(columns='yr')\n"
   ]
  },
  {
   "cell_type": "code",
   "execution_count": 39,
   "metadata": {},
   "outputs": [],
   "source": [
    "df = bike"
   ]
  },
  {
   "cell_type": "code",
   "execution_count": 350,
   "metadata": {},
   "outputs": [],
   "source": [
    "X_train,X_test,y_train,y_test=train_test_split(bike.iloc[:,0:-1],bike.iloc[:,-1],test_size=0.3, random_state=42)"
   ]
  },
  {
   "cell_type": "code",
   "execution_count": 351,
   "metadata": {},
   "outputs": [
    {
     "data": {
      "text/plain": [
       "LinearRegression(copy_X=True, fit_intercept=True, n_jobs=None, normalize=False)"
      ]
     },
     "execution_count": 351,
     "metadata": {},
     "output_type": "execute_result"
    }
   ],
   "source": [
    "regressor = LinearRegression()\n",
    "regressor.fit(X_train,y_train)"
   ]
  },
  {
   "cell_type": "markdown",
   "metadata": {},
   "source": [
    "Model's Summary\n"
   ]
  },
  {
   "cell_type": "code",
   "execution_count": 352,
   "metadata": {},
   "outputs": [
    {
     "name": "stdout",
     "output_type": "stream",
     "text": [
      "Coefficient of determination : 0.5228300533256651\n",
      "Model coefficients : [  474.22040218   -24.34334219  -396.09580641    57.65867402\n",
      "    74.00129022  -381.59827445  5606.56059591 -2426.70612135\n",
      " -3158.26287704]\n",
      "Model intercept value : 3184.501475939099\n"
     ]
    }
   ],
   "source": [
    "print('Coefficient of determination :',regressor.score(X_train,y_train))\n",
    "print('Model coefficients :',regressor.coef_)\n",
    "print('Model intercept value :',regressor.intercept_)"
   ]
  },
  {
   "cell_type": "markdown",
   "metadata": {},
   "source": [
    "Coefficient of multiple determination or R^2 turns out to be 52.28% i.e. the model is able to explain 78.65% of the variance and model intercept value is 3184.50 i.e. value of cnt when every other feature is valued 0 "
   ]
  },
  {
   "cell_type": "code",
   "execution_count": 353,
   "metadata": {
    "scrolled": true
   },
   "outputs": [
    {
     "data": {
      "text/html": [
       "<div>\n",
       "<style scoped>\n",
       "    .dataframe tbody tr th:only-of-type {\n",
       "        vertical-align: middle;\n",
       "    }\n",
       "\n",
       "    .dataframe tbody tr th {\n",
       "        vertical-align: top;\n",
       "    }\n",
       "\n",
       "    .dataframe thead th {\n",
       "        text-align: right;\n",
       "    }\n",
       "</style>\n",
       "<table border=\"1\" class=\"dataframe\">\n",
       "  <thead>\n",
       "    <tr style=\"text-align: right;\">\n",
       "      <th></th>\n",
       "      <th>Coefficient</th>\n",
       "    </tr>\n",
       "  </thead>\n",
       "  <tbody>\n",
       "    <tr>\n",
       "      <th>season</th>\n",
       "      <td>474.220402</td>\n",
       "    </tr>\n",
       "    <tr>\n",
       "      <th>mnth</th>\n",
       "      <td>-24.343342</td>\n",
       "    </tr>\n",
       "    <tr>\n",
       "      <th>holiday</th>\n",
       "      <td>-396.095806</td>\n",
       "    </tr>\n",
       "    <tr>\n",
       "      <th>weekday</th>\n",
       "      <td>57.658674</td>\n",
       "    </tr>\n",
       "    <tr>\n",
       "      <th>workingday</th>\n",
       "      <td>74.001290</td>\n",
       "    </tr>\n",
       "    <tr>\n",
       "      <th>weathersit</th>\n",
       "      <td>-381.598274</td>\n",
       "    </tr>\n",
       "    <tr>\n",
       "      <th>temp</th>\n",
       "      <td>5606.560596</td>\n",
       "    </tr>\n",
       "    <tr>\n",
       "      <th>hum</th>\n",
       "      <td>-2426.706121</td>\n",
       "    </tr>\n",
       "    <tr>\n",
       "      <th>windspeed</th>\n",
       "      <td>-3158.262877</td>\n",
       "    </tr>\n",
       "  </tbody>\n",
       "</table>\n",
       "</div>"
      ],
      "text/plain": [
       "            Coefficient\n",
       "season       474.220402\n",
       "mnth         -24.343342\n",
       "holiday     -396.095806\n",
       "weekday       57.658674\n",
       "workingday    74.001290\n",
       "weathersit  -381.598274\n",
       "temp        5606.560596\n",
       "hum        -2426.706121\n",
       "windspeed  -3158.262877"
      ]
     },
     "execution_count": 353,
     "metadata": {},
     "output_type": "execute_result"
    }
   ],
   "source": [
    "coeff_df = pd.DataFrame(regressor.coef_, X_train.columns, columns=['Coefficient'])  \n",
    "coeff_df"
   ]
  },
  {
   "cell_type": "markdown",
   "metadata": {},
   "source": [
    "The following data table showcases the coefficent table of the model generated.\n",
    "The coefficient indicates change in the response variable when the predictor variable changes by a singular unit"
   ]
  },
  {
   "cell_type": "markdown",
   "metadata": {},
   "source": [
    "Thus , for a unit change in yr , the bike count changes by 1984.037 amount.\n",
    "Similarly , for a unit change in temperature , the bike count changes by 5250 amount - which seems highly disproportionate"
   ]
  },
  {
   "cell_type": "markdown",
   "metadata": {},
   "source": [
    "doesn't make sense."
   ]
  },
  {
   "cell_type": "markdown",
   "metadata": {},
   "source": [
    "Once the model has been trained , we will predict the outcome of the test data and compare it with the actual."
   ]
  },
  {
   "cell_type": "code",
   "execution_count": 354,
   "metadata": {},
   "outputs": [],
   "source": [
    "y_pred = regressor.predict(X_test)"
   ]
  },
  {
   "cell_type": "code",
   "execution_count": 357,
   "metadata": {
    "collapsed": true
   },
   "outputs": [
    {
     "data": {
      "text/html": [
       "<div>\n",
       "<style scoped>\n",
       "    .dataframe tbody tr th:only-of-type {\n",
       "        vertical-align: middle;\n",
       "    }\n",
       "\n",
       "    .dataframe tbody tr th {\n",
       "        vertical-align: top;\n",
       "    }\n",
       "\n",
       "    .dataframe thead th {\n",
       "        text-align: right;\n",
       "    }\n",
       "</style>\n",
       "<table border=\"1\" class=\"dataframe\">\n",
       "  <thead>\n",
       "    <tr style=\"text-align: right;\">\n",
       "      <th></th>\n",
       "      <th>Actual</th>\n",
       "      <th>Predicted</th>\n",
       "    </tr>\n",
       "  </thead>\n",
       "  <tbody>\n",
       "    <tr>\n",
       "      <th>703</th>\n",
       "      <td>6606</td>\n",
       "      <td>4934.229117</td>\n",
       "    </tr>\n",
       "    <tr>\n",
       "      <th>33</th>\n",
       "      <td>1550</td>\n",
       "      <td>2641.569790</td>\n",
       "    </tr>\n",
       "    <tr>\n",
       "      <th>300</th>\n",
       "      <td>3747</td>\n",
       "      <td>4145.483502</td>\n",
       "    </tr>\n",
       "    <tr>\n",
       "      <th>456</th>\n",
       "      <td>6041</td>\n",
       "      <td>3474.706395</td>\n",
       "    </tr>\n",
       "    <tr>\n",
       "      <th>633</th>\n",
       "      <td>7538</td>\n",
       "      <td>5624.035366</td>\n",
       "    </tr>\n",
       "    <tr>\n",
       "      <th>557</th>\n",
       "      <td>7264</td>\n",
       "      <td>6304.049518</td>\n",
       "    </tr>\n",
       "    <tr>\n",
       "      <th>39</th>\n",
       "      <td>1605</td>\n",
       "      <td>2052.388876</td>\n",
       "    </tr>\n",
       "    <tr>\n",
       "      <th>356</th>\n",
       "      <td>2209</td>\n",
       "      <td>2908.944208</td>\n",
       "    </tr>\n",
       "    <tr>\n",
       "      <th>559</th>\n",
       "      <td>7499</td>\n",
       "      <td>6703.673301</td>\n",
       "    </tr>\n",
       "    <tr>\n",
       "      <th>514</th>\n",
       "      <td>5743</td>\n",
       "      <td>5275.453353</td>\n",
       "    </tr>\n",
       "    <tr>\n",
       "      <th>729</th>\n",
       "      <td>1796</td>\n",
       "      <td>2138.666227</td>\n",
       "    </tr>\n",
       "    <tr>\n",
       "      <th>355</th>\n",
       "      <td>3068</td>\n",
       "      <td>3293.946562</td>\n",
       "    </tr>\n",
       "    <tr>\n",
       "      <th>164</th>\n",
       "      <td>4891</td>\n",
       "      <td>5100.893564</td>\n",
       "    </tr>\n",
       "    <tr>\n",
       "      <th>697</th>\n",
       "      <td>5260</td>\n",
       "      <td>4447.918759</td>\n",
       "    </tr>\n",
       "    <tr>\n",
       "      <th>66</th>\n",
       "      <td>2133</td>\n",
       "      <td>3631.048756</td>\n",
       "    </tr>\n",
       "    <tr>\n",
       "      <th>78</th>\n",
       "      <td>2471</td>\n",
       "      <td>3262.585427</td>\n",
       "    </tr>\n",
       "    <tr>\n",
       "      <th>72</th>\n",
       "      <td>2046</td>\n",
       "      <td>3520.685462</td>\n",
       "    </tr>\n",
       "    <tr>\n",
       "      <th>643</th>\n",
       "      <td>8156</td>\n",
       "      <td>6408.041467</td>\n",
       "    </tr>\n",
       "    <tr>\n",
       "      <th>181</th>\n",
       "      <td>5362</td>\n",
       "      <td>7182.550366</td>\n",
       "    </tr>\n",
       "    <tr>\n",
       "      <th>380</th>\n",
       "      <td>2298</td>\n",
       "      <td>1980.946311</td>\n",
       "    </tr>\n",
       "    <tr>\n",
       "      <th>606</th>\n",
       "      <td>7697</td>\n",
       "      <td>6423.045409</td>\n",
       "    </tr>\n",
       "    <tr>\n",
       "      <th>545</th>\n",
       "      <td>5463</td>\n",
       "      <td>7410.123861</td>\n",
       "    </tr>\n",
       "    <tr>\n",
       "      <th>467</th>\n",
       "      <td>5409</td>\n",
       "      <td>4138.511602</td>\n",
       "    </tr>\n",
       "    <tr>\n",
       "      <th>65</th>\n",
       "      <td>1872</td>\n",
       "      <td>2387.276964</td>\n",
       "    </tr>\n",
       "    <tr>\n",
       "      <th>54</th>\n",
       "      <td>1807</td>\n",
       "      <td>2325.570258</td>\n",
       "    </tr>\n",
       "    <tr>\n",
       "      <th>235</th>\n",
       "      <td>5130</td>\n",
       "      <td>5785.338445</td>\n",
       "    </tr>\n",
       "    <tr>\n",
       "      <th>81</th>\n",
       "      <td>2121</td>\n",
       "      <td>2711.693117</td>\n",
       "    </tr>\n",
       "    <tr>\n",
       "      <th>632</th>\n",
       "      <td>7436</td>\n",
       "      <td>5849.149169</td>\n",
       "    </tr>\n",
       "    <tr>\n",
       "      <th>404</th>\n",
       "      <td>3830</td>\n",
       "      <td>3041.981353</td>\n",
       "    </tr>\n",
       "    <tr>\n",
       "      <th>717</th>\n",
       "      <td>5557</td>\n",
       "      <td>4584.298464</td>\n",
       "    </tr>\n",
       "    <tr>\n",
       "      <th>...</th>\n",
       "      <td>...</td>\n",
       "      <td>...</td>\n",
       "    </tr>\n",
       "    <tr>\n",
       "      <th>531</th>\n",
       "      <td>7665</td>\n",
       "      <td>5562.559540</td>\n",
       "    </tr>\n",
       "    <tr>\n",
       "      <th>411</th>\n",
       "      <td>3005</td>\n",
       "      <td>2811.034879</td>\n",
       "    </tr>\n",
       "    <tr>\n",
       "      <th>292</th>\n",
       "      <td>4195</td>\n",
       "      <td>4551.126696</td>\n",
       "    </tr>\n",
       "    <tr>\n",
       "      <th>481</th>\n",
       "      <td>5026</td>\n",
       "      <td>3976.905889</td>\n",
       "    </tr>\n",
       "    <tr>\n",
       "      <th>83</th>\n",
       "      <td>2210</td>\n",
       "      <td>3591.767200</td>\n",
       "    </tr>\n",
       "    <tr>\n",
       "      <th>61</th>\n",
       "      <td>1685</td>\n",
       "      <td>3135.204429</td>\n",
       "    </tr>\n",
       "    <tr>\n",
       "      <th>204</th>\n",
       "      <td>3606</td>\n",
       "      <td>6837.610005</td>\n",
       "    </tr>\n",
       "    <tr>\n",
       "      <th>424</th>\n",
       "      <td>1834</td>\n",
       "      <td>2505.753481</td>\n",
       "    </tr>\n",
       "    <tr>\n",
       "      <th>29</th>\n",
       "      <td>1096</td>\n",
       "      <td>2480.563409</td>\n",
       "    </tr>\n",
       "    <tr>\n",
       "      <th>231</th>\n",
       "      <td>5191</td>\n",
       "      <td>6321.406297</td>\n",
       "    </tr>\n",
       "    <tr>\n",
       "      <th>213</th>\n",
       "      <td>4845</td>\n",
       "      <td>6769.692445</td>\n",
       "    </tr>\n",
       "    <tr>\n",
       "      <th>487</th>\n",
       "      <td>6169</td>\n",
       "      <td>4669.331427</td>\n",
       "    </tr>\n",
       "    <tr>\n",
       "      <th>712</th>\n",
       "      <td>5532</td>\n",
       "      <td>4641.987259</td>\n",
       "    </tr>\n",
       "    <tr>\n",
       "      <th>182</th>\n",
       "      <td>5119</td>\n",
       "      <td>7098.353431</td>\n",
       "    </tr>\n",
       "    <tr>\n",
       "      <th>626</th>\n",
       "      <td>4073</td>\n",
       "      <td>4062.294090</td>\n",
       "    </tr>\n",
       "    <tr>\n",
       "      <th>248</th>\n",
       "      <td>2710</td>\n",
       "      <td>3221.492749</td>\n",
       "    </tr>\n",
       "    <tr>\n",
       "      <th>518</th>\n",
       "      <td>8120</td>\n",
       "      <td>5299.849050</td>\n",
       "    </tr>\n",
       "    <tr>\n",
       "      <th>362</th>\n",
       "      <td>2423</td>\n",
       "      <td>2911.464436</td>\n",
       "    </tr>\n",
       "    <tr>\n",
       "      <th>664</th>\n",
       "      <td>7444</td>\n",
       "      <td>5120.374699</td>\n",
       "    </tr>\n",
       "    <tr>\n",
       "      <th>549</th>\n",
       "      <td>6660</td>\n",
       "      <td>7029.436722</td>\n",
       "    </tr>\n",
       "    <tr>\n",
       "      <th>654</th>\n",
       "      <td>7534</td>\n",
       "      <td>5340.995442</td>\n",
       "    </tr>\n",
       "    <tr>\n",
       "      <th>209</th>\n",
       "      <td>3846</td>\n",
       "      <td>7251.158785</td>\n",
       "    </tr>\n",
       "    <tr>\n",
       "      <th>450</th>\n",
       "      <td>5558</td>\n",
       "      <td>3928.117160</td>\n",
       "    </tr>\n",
       "    <tr>\n",
       "      <th>408</th>\n",
       "      <td>3422</td>\n",
       "      <td>3081.250035</td>\n",
       "    </tr>\n",
       "    <tr>\n",
       "      <th>176</th>\n",
       "      <td>5305</td>\n",
       "      <td>6347.696215</td>\n",
       "    </tr>\n",
       "    <tr>\n",
       "      <th>299</th>\n",
       "      <td>2659</td>\n",
       "      <td>4417.174379</td>\n",
       "    </tr>\n",
       "    <tr>\n",
       "      <th>516</th>\n",
       "      <td>7338</td>\n",
       "      <td>5933.817369</td>\n",
       "    </tr>\n",
       "    <tr>\n",
       "      <th>533</th>\n",
       "      <td>6978</td>\n",
       "      <td>5016.535892</td>\n",
       "    </tr>\n",
       "    <tr>\n",
       "      <th>264</th>\n",
       "      <td>4795</td>\n",
       "      <td>4858.556310</td>\n",
       "    </tr>\n",
       "    <tr>\n",
       "      <th>137</th>\n",
       "      <td>3855</td>\n",
       "      <td>3831.015631</td>\n",
       "    </tr>\n",
       "  </tbody>\n",
       "</table>\n",
       "<p>220 rows × 2 columns</p>\n",
       "</div>"
      ],
      "text/plain": [
       "     Actual    Predicted\n",
       "703    6606  4934.229117\n",
       "33     1550  2641.569790\n",
       "300    3747  4145.483502\n",
       "456    6041  3474.706395\n",
       "633    7538  5624.035366\n",
       "557    7264  6304.049518\n",
       "39     1605  2052.388876\n",
       "356    2209  2908.944208\n",
       "559    7499  6703.673301\n",
       "514    5743  5275.453353\n",
       "729    1796  2138.666227\n",
       "355    3068  3293.946562\n",
       "164    4891  5100.893564\n",
       "697    5260  4447.918759\n",
       "66     2133  3631.048756\n",
       "78     2471  3262.585427\n",
       "72     2046  3520.685462\n",
       "643    8156  6408.041467\n",
       "181    5362  7182.550366\n",
       "380    2298  1980.946311\n",
       "606    7697  6423.045409\n",
       "545    5463  7410.123861\n",
       "467    5409  4138.511602\n",
       "65     1872  2387.276964\n",
       "54     1807  2325.570258\n",
       "235    5130  5785.338445\n",
       "81     2121  2711.693117\n",
       "632    7436  5849.149169\n",
       "404    3830  3041.981353\n",
       "717    5557  4584.298464\n",
       "..      ...          ...\n",
       "531    7665  5562.559540\n",
       "411    3005  2811.034879\n",
       "292    4195  4551.126696\n",
       "481    5026  3976.905889\n",
       "83     2210  3591.767200\n",
       "61     1685  3135.204429\n",
       "204    3606  6837.610005\n",
       "424    1834  2505.753481\n",
       "29     1096  2480.563409\n",
       "231    5191  6321.406297\n",
       "213    4845  6769.692445\n",
       "487    6169  4669.331427\n",
       "712    5532  4641.987259\n",
       "182    5119  7098.353431\n",
       "626    4073  4062.294090\n",
       "248    2710  3221.492749\n",
       "518    8120  5299.849050\n",
       "362    2423  2911.464436\n",
       "664    7444  5120.374699\n",
       "549    6660  7029.436722\n",
       "654    7534  5340.995442\n",
       "209    3846  7251.158785\n",
       "450    5558  3928.117160\n",
       "408    3422  3081.250035\n",
       "176    5305  6347.696215\n",
       "299    2659  4417.174379\n",
       "516    7338  5933.817369\n",
       "533    6978  5016.535892\n",
       "264    4795  4858.556310\n",
       "137    3855  3831.015631\n",
       "\n",
       "[220 rows x 2 columns]"
      ]
     },
     "execution_count": 357,
     "metadata": {},
     "output_type": "execute_result"
    }
   ],
   "source": [
    "df1"
   ]
  },
  {
   "cell_type": "code",
   "execution_count": 356,
   "metadata": {},
   "outputs": [],
   "source": [
    "df1 = pd.DataFrame({'Actual': y_test, 'Predicted': y_pred})"
   ]
  },
  {
   "cell_type": "code",
   "execution_count": 358,
   "metadata": {},
   "outputs": [
    {
     "name": "stdout",
     "output_type": "stream",
     "text": [
      "Root mean square error : 1355.1011224422946\n",
      "Mean absolute error : 1149.4857479537634\n"
     ]
    }
   ],
   "source": [
    "rmse=math.sqrt(metrics.mean_squared_error(y_test,y_pred))\n",
    "#Mean absolute error\n",
    "mae=metrics.mean_absolute_error(y_test,y_pred)\n",
    "print('Root mean square error :',rmse)\n",
    "print('Mean absolute error :',mae)"
   ]
  },
  {
   "cell_type": "code",
   "execution_count": 359,
   "metadata": {},
   "outputs": [
    {
     "data": {
      "image/png": "[encoded data removed]",
      "text/plain": [
       "<Figure size 1080x576 with 1 Axes>"
      ]
     },
     "metadata": {
      "needs_background": "light"
     },
     "output_type": "display_data"
    }
   ],
   "source": [
    "fig,ax=pl.subplots(figsize=(15,8))\n",
    "ax.scatter(y_test,y_test-y_pred)\n",
    "ax.axhline(lw=2,color='black')\n",
    "ax.set_title('Resiudal vs Observed graph')\n",
    "ax.set_xlabel('Observed')\n",
    "ax.set_ylabel('Residual')\n",
    "pl.show()"
   ]
  },
  {
   "cell_type": "markdown",
   "metadata": {},
   "source": [
    "Cross validation technique "
   ]
  },
  {
   "cell_type": "code",
   "execution_count": 167,
   "metadata": {},
   "outputs": [],
   "source": [
    "from sklearn.model_selection import cross_val_score,cross_val_predict"
   ]
  },
  {
   "cell_type": "code",
   "execution_count": 360,
   "metadata": {},
   "outputs": [],
   "source": [
    "predict=cross_val_predict(regressor,X_train,y_train,cv=10)"
   ]
  },
  {
   "cell_type": "code",
   "execution_count": 169,
   "metadata": {
    "collapsed": true
   },
   "outputs": [
    {
     "data": {
      "text/plain": [
       "array([5647.1463969 , 4955.69131483, 5828.71245988, 4088.94633575,\n",
       "       4123.78478157, 6769.51725115, 5646.15070677, 3979.87705598,\n",
       "       4901.98191141, 3452.31892558, 5051.16221098, 2747.19401221,\n",
       "       3997.75568815, 5761.96819639, 4661.32606317, 6340.72587384,\n",
       "       4313.6211889 , 2931.99679994,  831.43772595,  887.78375276,\n",
       "       7727.16080705, 4065.92943322, 5226.2646293 , 5602.4269816 ,\n",
       "       7312.59002111, 7649.71651937, 3866.79033176, 3832.98611331,\n",
       "       1295.01777478, 4408.01209302, 1792.60500312, 2008.28779352,\n",
       "       1869.58677733, 1528.31000558, 4503.57425569, 5594.11070723,\n",
       "       6026.11471848, 4462.62165923, 5476.97281251, 5637.35004656,\n",
       "       6015.09488665, 4521.24519822, 5807.01305457, 5581.82919971,\n",
       "       3540.80125611, 4157.19669612, 1738.39189248, 3884.43121271,\n",
       "       4893.88885663, 6915.31772601, 2570.01701103, 5639.15922414,\n",
       "       6076.03332099, 3317.51747847, 4570.71538854, 3481.1321034 ,\n",
       "       1333.80957305, 3319.75425146,  860.03822264, 5617.56824423,\n",
       "       4806.52311878, 4747.12606171, 3991.54035097, 6218.21458285,\n",
       "       6302.88704601, 5911.44307151, 3663.83057819, 3233.88488329,\n",
       "       3859.70797056, 4291.85173435, 3186.71694665, 4087.48119797,\n",
       "       6988.18331995, 4126.14872836, 4484.23548375, 2783.66248548,\n",
       "       3876.86533148, 4699.12716703, 1201.65572146, 4026.12323872,\n",
       "       4567.37646266, 5194.52673315, 4335.73140189, 2114.0165017 ,\n",
       "       6619.10409781, 3439.65091478, 3617.27205522, 7116.20608169,\n",
       "       4597.943011  , 3911.69934309, 1895.1066767 , 3309.09692873,\n",
       "       1594.83563816, 6709.91100537, 6534.32250959, 4660.05326396,\n",
       "       3272.27468029, 5373.78843572, 3273.908423  , 2045.27695856,\n",
       "       2607.81713285, 3879.55017195, 5259.38886375, 4483.08744859,\n",
       "       3719.62466989, 5581.88334914, 6592.7796356 , 6444.52792032,\n",
       "       4547.03710558, 5916.90656377, 3221.11161492, 3975.97247085,\n",
       "       2309.0345609 , 3540.86736375, 5082.82341974, 2712.00742688,\n",
       "       6297.96507336, 3752.0016836 , 1926.58197907, 2799.97703364,\n",
       "       4754.62526245, 2987.34314612, 5160.57166358, 5671.74299513,\n",
       "       6273.46522682, 6244.75853885, 5213.48616155, 3930.12080214,\n",
       "       7433.77468639, 4623.19126081, 6136.68410133, 4246.90215435,\n",
       "       3361.64101859, 6276.06422728, 7033.12375482, 5476.7368202 ,\n",
       "       3563.12673472, 5034.45190277, 4355.67632679, 2971.51758147,\n",
       "       7195.43023656, 3629.80905279, 3483.11397674, 5263.36346249,\n",
       "       3284.75434929, 3808.42159299, 4357.07970353, 2793.52116831,\n",
       "       1559.90613647, 5282.9951929 , 7424.15374978, 4114.46776502,\n",
       "       6185.34538579, 1448.36052849, 3928.24543153, 1565.66362076,\n",
       "        158.47114082, 7736.85786969, 3829.6907355 , 1354.17812681,\n",
       "       7467.62386854, 4787.42186545, 3831.81856797, 4892.42399751,\n",
       "       4910.8684637 , 4597.1014912 , 3859.82691401, 5896.37593269,\n",
       "       3167.32953446, 4513.68495884, 2938.07788017, 4673.39590554,\n",
       "       4612.89877758, 1077.94439825, 6108.01163723, 2060.12133611,\n",
       "       5516.86703247, 5482.29714295, 4832.26598967,  959.16373437,\n",
       "       5767.65339153, 3599.8345407 , 4715.42950258, 3325.30083068,\n",
       "       1905.84057511, 5035.7782162 , 5098.06370444, 5156.84368808,\n",
       "       4613.67381564, 2114.55234418, 5391.03209851, 1476.47671991,\n",
       "       3089.97174077, 7998.22487531, 5212.12299703, 6307.21895502,\n",
       "       6579.86061255, 5184.99232448, 2053.1629822 , 5096.42521831,\n",
       "       1980.86137679, 5984.66385167, 8024.4189451 , 4314.16532706,\n",
       "        243.15274284, 3381.37452623, 5044.97384596, 4742.21798459,\n",
       "       1854.23247566, 6429.04967979, 7101.85036234, 3736.90130436,\n",
       "       4933.14458824, 4187.6263339 , 3562.98080308, 4351.32500297,\n",
       "       5428.20990599, 3718.74937416, 1979.83159386, 7484.17589027,\n",
       "       3880.02007447, 5322.02147428, 1869.32602818, 2066.09840599,\n",
       "       5085.29086325, 2248.53857643, 4614.25586978, 5353.71916755,\n",
       "       4634.14626808, 4261.17002182, 4687.66126673, 3995.16736419,\n",
       "       5204.22300019, 6672.57353661, 3682.46256802, 7389.50201622,\n",
       "       5112.30669165, 6951.48664274, 6466.25144178, 5035.71656489,\n",
       "       6181.40334119, 5477.42126418, 5391.13686843, 7579.55832273,\n",
       "       6469.04114695, 1347.37535239, 5061.94301984, 4672.55933943,\n",
       "       5427.26125459, 5078.8662322 , 4141.91388162, 3509.47906581,\n",
       "       5486.10175487, 5054.40744527, 4181.30238407, 3821.9191938 ,\n",
       "       6588.35825823, 5480.42497447, 4939.7649167 , 7415.15452738,\n",
       "       6408.26096014, 2196.98534084, 4628.4025705 , 6496.86968442,\n",
       "       6805.77431084, 3878.42786601, 3873.65419869, 4075.09930473,\n",
       "       7235.51337482, 6992.17933724, 1734.65959349, 3850.36345043,\n",
       "       2474.02370288, 5838.8444305 , 3563.17028399, 2251.28886314,\n",
       "       4367.60086694, 3416.89380051, 4965.86486169, 5825.31838042,\n",
       "       6090.47923317, 6336.17787962, 7095.42020501, 5682.05925273,\n",
       "        752.40324312, 6955.1252785 , 5141.73009278, 7132.5519336 ,\n",
       "       1900.88181661, 5534.75874912, 4020.18981401, 4489.18859557,\n",
       "       3578.93198571, 8260.47198115, 6642.66290326, 5126.83484189,\n",
       "       3537.28344513, 4293.85990156, 3088.49614191, 5236.26573932,\n",
       "       7536.66467162, 6504.08118207, 5438.64202673, 4244.33017275,\n",
       "       4582.1925611 , 6550.46714835, 4552.88451432, 7613.09161571,\n",
       "       3296.45158955, 5585.46760486, 2528.71415298, 5198.04757079,\n",
       "       2094.07291629, 6914.32417597, 3571.68289301, 4446.40869478,\n",
       "       4734.90910616, 5073.06180529, 4294.79976701, 2939.48932102,\n",
       "       3075.04160884, 4038.86177738, 6215.55650601, 5835.49192438,\n",
       "       4528.34434842, 3614.09768049, 5427.06586472, 4055.36303383,\n",
       "       4630.46132505, 6913.64794686, 5036.02943954, 5315.88911923,\n",
       "       5756.74321191, 6664.73204054, 4843.59100804, 5778.2984898 ,\n",
       "       2277.47335799, 5134.8839152 , 6434.52565071, 4343.38398794,\n",
       "       4653.35764227, 6129.16062287, 2459.74359212, 4450.10292683,\n",
       "       6864.08110258, 3193.1184321 , 4876.13248671, 7202.04605797,\n",
       "       4282.56950736, 4547.39078978, 6049.86457147, 1207.65214497,\n",
       "       3463.63512415, 4643.84570905, 3897.54532938, 3467.64362774,\n",
       "       4232.60446899, 5198.76630269, 5971.14156272, 6206.06588049,\n",
       "       3166.82714451, 5772.42906341, 5107.3240073 , 5305.83075099,\n",
       "       6385.0938231 , 6616.00262015, 5893.29571017, 6686.58792394,\n",
       "       7132.48095048, 1594.12237942, 5215.30847526, 4931.0418014 ,\n",
       "       6768.87495786, 1076.48302066, 7313.40097803, 3530.73412677,\n",
       "       5663.16325376, 6124.42997959, 6086.86689888, 3069.08916822,\n",
       "       8063.2839759 , 4762.1266851 , 7656.62948767, 5625.33910298,\n",
       "       8340.07275553, 5733.06964265, 5525.45375843, 4425.66470964,\n",
       "       4173.25016898, 6189.10959801, 4460.55391017, 2051.69826475,\n",
       "       6279.17874454, 6823.81546531, 7764.9282338 , 2255.15203326,\n",
       "       7914.5021904 , 2306.87432506, 6225.45321106, 2998.39794424,\n",
       "       1004.32979109, 5659.86406526, 2813.86323545, 1320.34302419,\n",
       "       6956.14652856, 4671.03022185, 6448.17702985, 3862.50462341,\n",
       "       4011.61721182, 5122.78203322, 3890.72822405, 7187.73894875,\n",
       "       5822.52961543, 3304.03175947, 1460.74462776, 5659.14883569,\n",
       "       3776.66610265, 4682.05009928, 5865.02484204,  886.02817569,\n",
       "       1514.43511245, 4643.80288208, 1534.3471002 , 4951.66931114,\n",
       "       3174.74360214, 5551.86542924, 5320.98795995, 1538.9755216 ,\n",
       "       3282.02339782, 3839.41752351, 4251.80872781, 5238.3505191 ,\n",
       "       4464.19653435, 2988.48345638, 4530.78863847, 5089.60913844,\n",
       "       4912.24757273, 6423.53098889, 4045.01415792, 5772.98634838,\n",
       "       1503.42167532, 7660.76001996, 4237.97630986, 1388.39788436,\n",
       "       5761.59624767, 6986.19373636, 3274.42081628, 5397.4944566 ,\n",
       "       1454.95422398, 5761.46663297, 4240.32313477, 4724.71561958,\n",
       "       3235.73463154, 2093.9094757 , 2514.73843622, 7815.43774401,\n",
       "       3177.51569181, 4978.90170111, 1881.29367345, 3731.40347613,\n",
       "       7316.86769406, 2924.67344279, 3117.56905255, 3668.11914778,\n",
       "       2375.96211208, 4406.06766136, 5206.44336719, 5478.28529835,\n",
       "       6524.43325667, 4990.81747409, 6216.54176777, 7319.10743178,\n",
       "       5608.54188932, 5398.39405988, 5938.06565082, 5498.12641619,\n",
       "       6674.90618789, 1577.86609373, 5974.86515882, 6565.50183818,\n",
       "       4834.31067909, 1236.53501569, 3139.09734035, 6017.93599619,\n",
       "       5213.09785754, 4234.92970895, 5122.07910009, 2683.10176288,\n",
       "       4488.6401255 , 4909.57980086, 3280.59056052, 3673.26196814,\n",
       "       6799.24732576, 4013.52627664, 6167.09871323, 2185.21277154,\n",
       "       4119.9818744 , 2829.31541635, 5795.00521348, 3737.29888659,\n",
       "       4764.361801  , 4761.92294107, 3091.01682415, 6405.12201575,\n",
       "       1537.87922211, 4852.87622463, 2113.85749331, 2949.71871149,\n",
       "       4535.45866975, 4093.17358092, 2327.18349863])"
      ]
     },
     "execution_count": 169,
     "metadata": {},
     "output_type": "execute_result"
    }
   ],
   "source": [
    "predict"
   ]
  },
  {
   "cell_type": "code",
   "execution_count": 361,
   "metadata": {},
   "outputs": [
    {
     "data": {
      "text/plain": [
       "array([0.47286234, 0.34599107, 0.55247372, 0.66127806, 0.43124941,\n",
       "       0.54363217, 0.25847592, 0.49897895, 0.49795131, 0.48881289])"
      ]
     },
     "execution_count": 361,
     "metadata": {},
     "output_type": "execute_result"
    }
   ],
   "source": [
    "cross_val_score(regressor, X_train, y_train, cv=10)"
   ]
  },
  {
   "cell_type": "code",
   "execution_count": 362,
   "metadata": {},
   "outputs": [
    {
     "name": "stdout",
     "output_type": "stream",
     "text": [
      "Average R-squared scores : 0.475170584916446\n"
     ]
    }
   ],
   "source": [
    "print('Average R-squared scores :',np.average(cross_val_score(regressor, X_train, y_train, cv=10)))"
   ]
  },
  {
   "cell_type": "markdown",
   "metadata": {},
   "source": [
    "The average R-squared score turns out to be 47.5% on 10 fold validation which means that the predictor variable is only able to explain 47.5% of the variance in the target or response variable which cnt(bike cnt)."
   ]
  },
  {
   "cell_type": "markdown",
   "metadata": {},
   "source": []
  },
  {
   "cell_type": "markdown",
   "metadata": {},
   "source": [
    "Decision Tree Regression "
   ]
  },
  {
   "cell_type": "code",
   "execution_count": 363,
   "metadata": {},
   "outputs": [],
   "source": [
    "dtr=DecisionTreeRegressor(min_samples_split=2,max_leaf_nodes=10)\n"
   ]
  },
  {
   "cell_type": "code",
   "execution_count": 364,
   "metadata": {},
   "outputs": [
    {
     "data": {
      "text/plain": [
       "DecisionTreeRegressor(criterion='mse', max_depth=None, max_features=None,\n",
       "                      max_leaf_nodes=10, min_impurity_decrease=0.0,\n",
       "                      min_impurity_split=None, min_samples_leaf=1,\n",
       "                      min_samples_split=2, min_weight_fraction_leaf=0.0,\n",
       "                      presort=False, random_state=None, splitter='best')"
      ]
     },
     "execution_count": 364,
     "metadata": {},
     "output_type": "execute_result"
    }
   ],
   "source": [
    "dtr.fit(X_train,y_train)"
   ]
  },
  {
   "cell_type": "code",
   "execution_count": 365,
   "metadata": {},
   "outputs": [],
   "source": [
    "dtr_pred=dtr.predict(X_test)"
   ]
  },
  {
   "cell_type": "code",
   "execution_count": 366,
   "metadata": {},
   "outputs": [
    {
     "name": "stdout",
     "output_type": "stream",
     "text": [
      "Root mean square error : 1336.306876724707\n",
      "Mean absolute error : 1129.5225439592414\n"
     ]
    }
   ],
   "source": [
    "rmsedt=math.sqrt(metrics.mean_squared_error(y_test,dtr_pred))\n",
    "#Mean absolute error\n",
    "maedt=metrics.mean_absolute_error(y_test,dtr_pred)\n",
    "print('Root mean square error :',rmsedt)\n",
    "print('Mean absolute error :',maedt)"
   ]
  },
  {
   "cell_type": "code",
   "execution_count": 367,
   "metadata": {},
   "outputs": [
    {
     "data": {
      "image/png": "[encoded data removed]",
      "text/plain": [
       "<Figure size 1080x576 with 1 Axes>"
      ]
     },
     "metadata": {
      "needs_background": "light"
     },
     "output_type": "display_data"
    }
   ],
   "source": [
    "fig,ax=pl.subplots(figsize=(15,8))\n",
    "ax.scatter(y_test,y_test-dtr_pred)\n",
    "ax.axhline(lw=2,color='black')\n",
    "ax.set_title('Resiudal vs Observed graph')\n",
    "ax.set_xlabel('Observed')\n",
    "ax.set_ylabel('Residual')\n",
    "pl.show()"
   ]
  },
  {
   "cell_type": "code",
   "execution_count": 311,
   "metadata": {},
   "outputs": [
    {
     "data": {
      "text/plain": [
       "0.8082151777539757"
      ]
     },
     "execution_count": 311,
     "metadata": {},
     "output_type": "execute_result"
    }
   ],
   "source": [
    "dtr.score(X_train,y_train)"
   ]
  },
  {
   "cell_type": "code",
   "execution_count": 369,
   "metadata": {},
   "outputs": [],
   "source": [
    "predict_DT=cross_val_predict(dtr,X_train,y_train,cv=10)\n"
   ]
  },
  {
   "cell_type": "code",
   "execution_count": 371,
   "metadata": {},
   "outputs": [
    {
     "name": "stdout",
     "output_type": "stream",
     "text": [
      "R-squared scores : 0.48172191534027087\n"
     ]
    }
   ],
   "source": [
    "r2_scores = cross_val_score(dtr, X_train, y_train, cv=10)\n",
    "print('R-squared scores :',np.average(r2_scores))"
   ]
  },
  {
   "cell_type": "code",
   "execution_count": 368,
   "metadata": {},
   "outputs": [
    {
     "name": "stdout",
     "output_type": "stream",
     "text": [
      "Root mean square error : 1336.306876724707\n",
      "Mean absolute error : 1129.5225439592414\n"
     ]
    }
   ],
   "source": [
    "rmsedt=math.sqrt(metrics.mean_squared_error(y_test,dtr_pred))\n",
    "#Mean absolute error\n",
    "maedt=metrics.mean_absolute_error(y_test,dtr_pred)\n",
    "print('Root mean square error :',rmsedt)\n",
    "print('Mean absolute error :',maedt)"
   ]
  },
  {
   "cell_type": "markdown",
   "metadata": {},
   "source": [
    "Building a Random Forest Model"
   ]
  },
  {
   "cell_type": "code",
   "execution_count": 372,
   "metadata": {},
   "outputs": [],
   "source": [
    "rf=RandomForestRegressor(n_estimators=100)"
   ]
  },
  {
   "cell_type": "code",
   "execution_count": 373,
   "metadata": {},
   "outputs": [
    {
     "data": {
      "text/plain": [
       "RandomForestRegressor(bootstrap=True, criterion='mse', max_depth=None,\n",
       "                      max_features='auto', max_leaf_nodes=None,\n",
       "                      min_impurity_decrease=0.0, min_impurity_split=None,\n",
       "                      min_samples_leaf=1, min_samples_split=2,\n",
       "                      min_weight_fraction_leaf=0.0, n_estimators=100,\n",
       "                      n_jobs=None, oob_score=False, random_state=None,\n",
       "                      verbose=0, warm_start=False)"
      ]
     },
     "execution_count": 373,
     "metadata": {},
     "output_type": "execute_result"
    }
   ],
   "source": [
    "rf.fit(X_train,y_train)"
   ]
  },
  {
   "cell_type": "code",
   "execution_count": 374,
   "metadata": {},
   "outputs": [],
   "source": [
    "rf_score =rf.score(X_train,y_train)"
   ]
  },
  {
   "cell_type": "code",
   "execution_count": 375,
   "metadata": {},
   "outputs": [
    {
     "data": {
      "text/plain": [
       "0.9433242301891731"
      ]
     },
     "execution_count": 375,
     "metadata": {},
     "output_type": "execute_result"
    }
   ],
   "source": [
    "rf_score"
   ]
  },
  {
   "cell_type": "markdown",
   "metadata": {},
   "source": [
    "The Random Forest Model generated is 97.97% accurate"
   ]
  },
  {
   "cell_type": "markdown",
   "metadata": {},
   "source": [
    "Prediction "
   ]
  },
  {
   "cell_type": "code",
   "execution_count": 380,
   "metadata": {},
   "outputs": [],
   "source": [
    "rf_pred = rf.predict(X_test)"
   ]
  },
  {
   "cell_type": "code",
   "execution_count": 382,
   "metadata": {},
   "outputs": [
    {
     "name": "stdout",
     "output_type": "stream",
     "text": [
      "Root mean square error : 1252.2098741682823\n",
      "Mean absolute error : 1055.670909090909\n"
     ]
    }
   ],
   "source": [
    "rmseRF = math.sqrt(metrics.mean_squared_error(y_test,rf_pred))\n",
    "print('Root mean square error :',rmseRF)\n",
    "#Mean absolute error\n",
    "maeRF=metrics.mean_absolute_error(y_test,rf_pred)\n",
    "print('Mean absolute error :',maeRF)"
   ]
  },
  {
   "cell_type": "code",
   "execution_count": 384,
   "metadata": {},
   "outputs": [
    {
     "data": {
      "image/png": "[encoded data removed]",
      "text/plain": [
       "<Figure size 1080x576 with 1 Axes>"
      ]
     },
     "metadata": {
      "needs_background": "light"
     },
     "output_type": "display_data"
    }
   ],
   "source": [
    "fig,ax=pl.subplots(figsize=(15,8))\n",
    "ax.scatter(y_test,y_test-rf_pred)\n",
    "ax.axhline(lw=2,color='black')\n",
    "ax.set_title('Resiudal vs Observed graph')\n",
    "ax.set_xlabel('Observed')\n",
    "ax.set_ylabel('Residual')\n",
    "pl.show()"
   ]
  },
  {
   "cell_type": "code",
   "execution_count": 386,
   "metadata": {},
   "outputs": [],
   "source": [
    "predictRF=cross_val_predict(rf,X_train,y_train,cv=3)"
   ]
  },
  {
   "cell_type": "code",
   "execution_count": 387,
   "metadata": {},
   "outputs": [],
   "source": [
    "r2_RF = cross_val_score(rf, X_train, y_train, cv=10)"
   ]
  },
  {
   "cell_type": "code",
   "execution_count": 388,
   "metadata": {},
   "outputs": [
    {
     "name": "stdout",
     "output_type": "stream",
     "text": [
      "Average r2 score for random forest is  0.5756318785425412\n"
     ]
    }
   ],
   "source": [
    "print(\"Average r2 score for random forest is \", np.average(r2_RF))"
   ]
  },
  {
   "cell_type": "markdown",
   "metadata": {},
   "source": [
    "Average r2 score for random forest is  0.8420167902882654 which means that the model can explain 84.2% variance present around the predictor variables\n"
   ]
  },
  {
   "cell_type": "markdown",
   "metadata": {},
   "source": [
    "The root mean square error and mean absolute error is least for Random Forest \n",
    "Thus , we will select the Random Forest as the apt model for predicting bike count"
   ]
  },
  {
   "cell_type": "code",
   "execution_count": 391,
   "metadata": {},
   "outputs": [
    {
     "name": "stdout",
     "output_type": "stream",
     "text": [
      "Sorted Feature Importance:\n",
      "          0           1\n",
      "0  0.579614        temp\n",
      "1  0.153561         hum\n",
      "2  0.096795   windspeed\n",
      "3  0.057304      season\n",
      "4  0.045295        mnth\n",
      "5  0.036909     weekday\n",
      "6  0.017075  weathersit\n",
      "7  0.010718  workingday\n",
      "8  0.002730     holiday\n"
     ]
    }
   ],
   "source": [
    "print (\"Sorted Feature Importance:\")\n",
    "feat_import = sorted(zip(rf.feature_importances_, list(X_train)), reverse=True)\n",
    "print(pd.DataFrame(feat_import))"
   ]
  },
  {
   "cell_type": "code",
   "execution_count": null,
   "metadata": {},
   "outputs": [],
   "source": []
  },
  {
   "cell_type": "code",
   "execution_count": null,
   "metadata": {},
   "outputs": [],
   "source": []
  }
 ],
 "metadata": {
  "kernelspec": {
   "display_name": "Python 3",
   "language": "python",
   "name": "python3"
  },
  "language_info": {
   "codemirror_mode": {
    "name": "ipython",
    "version": 3
   },
   "file_extension": ".py",
   "mimetype": "text/x-python",
   "name": "python",
   "nbconvert_exporter": "python",
   "pygments_lexer": "ipython3",
   "version": "3.7.3"
  }
 },
 "nbformat": 4,
 "nbformat_minor": 2
}
